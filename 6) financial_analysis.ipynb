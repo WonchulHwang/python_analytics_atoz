{
 "cells": [
  {
   "cell_type": "markdown",
   "metadata": {},
   "source": [
    "<font size=6> <b> 6 주차 강의 Notebook </b> </font>\n",
    "<div class=\"alert alert-block alert-success\">\n",
    "  주식 정보를 읽어서 분석하고, 투자 알고리즘의 성능 분석하는 법을 확인해 보자! <br>\n",
    "    \n",
    "   <b> Note </b> : 새로운 주제를 다루면서 Pandas의 활용법도 함께 확인!! <br>\n",
    "</div>\n",
    "</div>\n",
    "\n",
    "<p style=\"text-align:right;\"> sumyeon@gmail.com </p>\n"
   ]
  },
  {
   "cell_type": "markdown",
   "metadata": {},
   "source": [
    "<hr>"
   ]
  },
  {
   "cell_type": "markdown",
   "metadata": {},
   "source": [
    "- 필요한 패키지 인스톨"
   ]
  },
  {
   "cell_type": "markdown",
   "metadata": {},
   "source": [
    "> pip install pandas_datareader"
   ]
  },
  {
   "cell_type": "markdown",
   "metadata": {},
   "source": [
    "<hr>"
   ]
  },
  {
   "cell_type": "code",
   "execution_count": 1,
   "metadata": {
    "execution": {
     "iopub.execute_input": "2020-09-28T12:25:48.427923Z",
     "iopub.status.busy": "2020-09-28T12:25:48.426919Z",
     "iopub.status.idle": "2020-09-28T12:25:49.301920Z",
     "shell.execute_reply": "2020-09-28T12:25:49.301920Z",
     "shell.execute_reply.started": "2020-09-28T12:25:48.427923Z"
    }
   },
   "outputs": [
    {
     "name": "stdout",
     "output_type": "stream",
     "text": [
      "Active code page: 65001\n",
      "활성 코드 페이지: 949\n"
     ]
    }
   ],
   "source": [
    "import pandas as pd\n",
    "import numpy as np\n",
    "import matplotlib.pyplot as plt\n",
    "\n",
    "import datetime\n",
    "import pandas_datareader.data as pdrdata\n",
    "\n",
    "%matplotlib inline\n",
    "!chcp 949"
   ]
  },
  {
   "cell_type": "markdown",
   "metadata": {},
   "source": [
    "# 증권 투자 기본 정보 준비"
   ]
  },
  {
   "cell_type": "markdown",
   "metadata": {},
   "source": [
    "## 한국 증권 거래소에서 상장회사 정보를 다운받아 준비\n",
    " - http://marketdata.krx.co.kr/mdi#document=040601"
   ]
  },
  {
   "cell_type": "code",
   "execution_count": 2,
   "metadata": {
    "execution": {
     "iopub.execute_input": "2020-09-28T12:25:49.827919Z",
     "iopub.status.busy": "2020-09-28T12:25:49.827919Z",
     "iopub.status.idle": "2020-09-28T12:25:49.870920Z",
     "shell.execute_reply": "2020-09-28T12:25:49.869920Z",
     "shell.execute_reply.started": "2020-09-28T12:25:49.827919Z"
    }
   },
   "outputs": [],
   "source": [
    "metadf = pd.read_csv(\"krxstockdata.csv\", dtype={\"종목코드\":str})"
   ]
  },
  {
   "cell_type": "code",
   "execution_count": 3,
   "metadata": {
    "execution": {
     "iopub.execute_input": "2020-09-28T12:25:50.241935Z",
     "iopub.status.busy": "2020-09-28T12:25:50.241935Z",
     "iopub.status.idle": "2020-09-28T12:25:50.257935Z",
     "shell.execute_reply": "2020-09-28T12:25:50.257935Z",
     "shell.execute_reply.started": "2020-09-28T12:25:50.241935Z"
    }
   },
   "outputs": [
    {
     "data": {
      "text/html": [
       "<div>\n",
       "<style scoped>\n",
       "    .dataframe tbody tr th:only-of-type {\n",
       "        vertical-align: middle;\n",
       "    }\n",
       "\n",
       "    .dataframe tbody tr th {\n",
       "        vertical-align: top;\n",
       "    }\n",
       "\n",
       "    .dataframe thead th {\n",
       "        text-align: right;\n",
       "    }\n",
       "</style>\n",
       "<table border=\"1\" class=\"dataframe\">\n",
       "  <thead>\n",
       "    <tr style=\"text-align: right;\">\n",
       "      <th></th>\n",
       "      <th>번호</th>\n",
       "      <th>종목코드</th>\n",
       "      <th>기업명</th>\n",
       "      <th>업종코드</th>\n",
       "      <th>업종</th>\n",
       "      <th>상장주식수(주)</th>\n",
       "      <th>자본금(원)</th>\n",
       "      <th>액면가(원)</th>\n",
       "      <th>통화구분</th>\n",
       "      <th>대표전화</th>\n",
       "      <th>주소</th>\n",
       "      <th>총카운트</th>\n",
       "    </tr>\n",
       "  </thead>\n",
       "  <tbody>\n",
       "    <tr>\n",
       "      <th>0</th>\n",
       "      <td>1</td>\n",
       "      <td>060310</td>\n",
       "      <td>3S</td>\n",
       "      <td>32902</td>\n",
       "      <td>특수 목적용 기계 제조업</td>\n",
       "      <td>44,802,511</td>\n",
       "      <td>22,401,255,500</td>\n",
       "      <td>500</td>\n",
       "      <td>원(KRW)</td>\n",
       "      <td>02-896-9474</td>\n",
       "      <td>서울특별시 금천구  시흥대로71길 30-1</td>\n",
       "      <td>2367</td>\n",
       "    </tr>\n",
       "    <tr>\n",
       "      <th>1</th>\n",
       "      <td>2</td>\n",
       "      <td>095570</td>\n",
       "      <td>AJ네트웍스</td>\n",
       "      <td>147603</td>\n",
       "      <td>산업용 기계 및 장비 임대업</td>\n",
       "      <td>46,822,295</td>\n",
       "      <td>46,822,295,000</td>\n",
       "      <td>1,000</td>\n",
       "      <td>원(KRW)</td>\n",
       "      <td>02-6363-9999</td>\n",
       "      <td>서울특별시 송파구 정의로8길 9 (문정동,AJ빌딩)</td>\n",
       "      <td>2367</td>\n",
       "    </tr>\n",
       "    <tr>\n",
       "      <th>2</th>\n",
       "      <td>3</td>\n",
       "      <td>006840</td>\n",
       "      <td>AK홀딩스</td>\n",
       "      <td>116409</td>\n",
       "      <td>기타 금융업</td>\n",
       "      <td>13,247,561</td>\n",
       "      <td>66,237,805,000</td>\n",
       "      <td>5,000</td>\n",
       "      <td>원(KRW)</td>\n",
       "      <td>02-768-2923</td>\n",
       "      <td>서울특별시 마포구 양화로 188 -</td>\n",
       "      <td>2367</td>\n",
       "    </tr>\n",
       "    <tr>\n",
       "      <th>3</th>\n",
       "      <td>4</td>\n",
       "      <td>054620</td>\n",
       "      <td>APS홀딩스</td>\n",
       "      <td>116409</td>\n",
       "      <td>기타 금융업</td>\n",
       "      <td>20,394,221</td>\n",
       "      <td>10,197,110,500</td>\n",
       "      <td>500</td>\n",
       "      <td>원(KRW)</td>\n",
       "      <td>031-776-1800</td>\n",
       "      <td>경기도 화성시 동탄면 동탄산단9길 23-12 (동탄면)</td>\n",
       "      <td>2367</td>\n",
       "    </tr>\n",
       "    <tr>\n",
       "      <th>4</th>\n",
       "      <td>5</td>\n",
       "      <td>265520</td>\n",
       "      <td>AP시스템</td>\n",
       "      <td>32902</td>\n",
       "      <td>특수 목적용 기계 제조업</td>\n",
       "      <td>14,480,227</td>\n",
       "      <td>7,240,113,500</td>\n",
       "      <td>500</td>\n",
       "      <td>원(KRW)</td>\n",
       "      <td>031-379-2700</td>\n",
       "      <td>경기도 화성시  동탄면 동탄산단8길 15-5 &amp;nbsp</td>\n",
       "      <td>2367</td>\n",
       "    </tr>\n",
       "  </tbody>\n",
       "</table>\n",
       "</div>"
      ],
      "text/plain": [
       "   번호    종목코드     기업명    업종코드               업종    상장주식수(주)          자본금(원)  \\\n",
       "0   1  060310      3S   32902    특수 목적용 기계 제조업  44,802,511  22,401,255,500   \n",
       "1   2  095570  AJ네트웍스  147603  산업용 기계 및 장비 임대업  46,822,295  46,822,295,000   \n",
       "2   3  006840   AK홀딩스  116409           기타 금융업  13,247,561  66,237,805,000   \n",
       "3   4  054620  APS홀딩스  116409           기타 금융업  20,394,221  10,197,110,500   \n",
       "4   5  265520   AP시스템   32902    특수 목적용 기계 제조업  14,480,227   7,240,113,500   \n",
       "\n",
       "  액면가(원)    통화구분          대표전화                              주소  총카운트  \n",
       "0    500  원(KRW)   02-896-9474        서울특별시 금천구  시흥대로71길 30-1   2367  \n",
       "1  1,000  원(KRW)  02-6363-9999    서울특별시 송파구 정의로8길 9 (문정동,AJ빌딩)  2367  \n",
       "2  5,000  원(KRW)   02-768-2923            서울특별시 마포구 양화로 188 -   2367  \n",
       "3    500  원(KRW)  031-776-1800  경기도 화성시 동탄면 동탄산단9길 23-12 (동탄면)  2367  \n",
       "4    500  원(KRW)  031-379-2700  경기도 화성시  동탄면 동탄산단8길 15-5 &nbsp  2367  "
      ]
     },
     "execution_count": 3,
     "metadata": {},
     "output_type": "execute_result"
    }
   ],
   "source": [
    "metadf.head()"
   ]
  },
  {
   "cell_type": "markdown",
   "metadata": {},
   "source": [
    "<div class=\"alert alert-block alert-info\">\n",
    "<b> Tip:</b> https://wendys.tistory.com/173 에서와 같이 파일 다운로드를 건너뛰고 바로 데이터를 읽어들이는 방법도 가능 </b> <br> <br>\n",
    "<pre>\n",
    "metadf = pd.read_html('http://kind.krx.co.kr/corpgeneral/corpList.do?method=download&searchType=13', header=0)[0]\n",
    "</pre>\n",
    "</div>"
   ]
  },
  {
   "cell_type": "markdown",
   "metadata": {},
   "source": [
    "## ETF 형태의 증권 정보를 추가로 확보 (optional)"
   ]
  },
  {
   "cell_type": "code",
   "execution_count": 4,
   "metadata": {
    "execution": {
     "iopub.execute_input": "2020-09-28T12:25:57.716935Z",
     "iopub.status.busy": "2020-09-28T12:25:57.715933Z",
     "iopub.status.idle": "2020-09-28T12:25:57.732931Z",
     "shell.execute_reply": "2020-09-28T12:25:57.732931Z",
     "shell.execute_reply.started": "2020-09-28T12:25:57.716935Z"
    }
   },
   "outputs": [],
   "source": [
    "meta2df = pd.read_csv(\"etfitemdata.csv\", sep=\"\\t\")"
   ]
  },
  {
   "cell_type": "code",
   "execution_count": 5,
   "metadata": {
    "execution": {
     "iopub.execute_input": "2020-09-28T12:25:58.086930Z",
     "iopub.status.busy": "2020-09-28T12:25:58.086930Z",
     "iopub.status.idle": "2020-09-28T12:25:58.097924Z",
     "shell.execute_reply": "2020-09-28T12:25:58.096935Z",
     "shell.execute_reply.started": "2020-09-28T12:25:58.086930Z"
    }
   },
   "outputs": [
    {
     "data": {
      "text/html": [
       "<div>\n",
       "<style scoped>\n",
       "    .dataframe tbody tr th:only-of-type {\n",
       "        vertical-align: middle;\n",
       "    }\n",
       "\n",
       "    .dataframe tbody tr th {\n",
       "        vertical-align: top;\n",
       "    }\n",
       "\n",
       "    .dataframe thead th {\n",
       "        text-align: right;\n",
       "    }\n",
       "</style>\n",
       "<table border=\"1\" class=\"dataframe\">\n",
       "  <thead>\n",
       "    <tr style=\"text-align: right;\">\n",
       "      <th></th>\n",
       "      <th>대분류</th>\n",
       "      <th>중분료</th>\n",
       "      <th>업종명</th>\n",
       "      <th>종목명</th>\n",
       "      <th>종목코드</th>\n",
       "    </tr>\n",
       "  </thead>\n",
       "  <tbody>\n",
       "    <tr>\n",
       "      <th>0</th>\n",
       "      <td>주식(ETF)</td>\n",
       "      <td>유가</td>\n",
       "      <td>KOSPI</td>\n",
       "      <td>KODEX 200</td>\n",
       "      <td>'069500</td>\n",
       "    </tr>\n",
       "    <tr>\n",
       "      <th>1</th>\n",
       "      <td>주식(ETF)</td>\n",
       "      <td>유가</td>\n",
       "      <td>KOSPI</td>\n",
       "      <td>TIGER 200</td>\n",
       "      <td>'102110</td>\n",
       "    </tr>\n",
       "  </tbody>\n",
       "</table>\n",
       "</div>"
      ],
      "text/plain": [
       "       대분류 중분료    업종명        종목명     종목코드\n",
       "0  주식(ETF)  유가  KOSPI  KODEX 200  '069500\n",
       "1  주식(ETF)  유가  KOSPI  TIGER 200  '102110"
      ]
     },
     "execution_count": 5,
     "metadata": {},
     "output_type": "execute_result"
    }
   ],
   "source": [
    "meta2df.head(2)"
   ]
  },
  {
   "cell_type": "code",
   "execution_count": 6,
   "metadata": {
    "execution": {
     "iopub.execute_input": "2020-09-28T12:25:58.989936Z",
     "iopub.status.busy": "2020-09-28T12:25:58.989936Z",
     "iopub.status.idle": "2020-09-28T12:25:58.994924Z",
     "shell.execute_reply": "2020-09-28T12:25:58.993924Z",
     "shell.execute_reply.started": "2020-09-28T12:25:58.989936Z"
    }
   },
   "outputs": [],
   "source": [
    "meta2df['종목코드'] = meta2df['종목코드'].map(lambda x : x[1:])"
   ]
  },
  {
   "cell_type": "code",
   "execution_count": 7,
   "metadata": {
    "execution": {
     "iopub.execute_input": "2020-09-28T12:25:59.470924Z",
     "iopub.status.busy": "2020-09-28T12:25:59.469919Z",
     "iopub.status.idle": "2020-09-28T12:25:59.481919Z",
     "shell.execute_reply": "2020-09-28T12:25:59.480920Z",
     "shell.execute_reply.started": "2020-09-28T12:25:59.469919Z"
    }
   },
   "outputs": [
    {
     "data": {
      "text/html": [
       "<div>\n",
       "<style scoped>\n",
       "    .dataframe tbody tr th:only-of-type {\n",
       "        vertical-align: middle;\n",
       "    }\n",
       "\n",
       "    .dataframe tbody tr th {\n",
       "        vertical-align: top;\n",
       "    }\n",
       "\n",
       "    .dataframe thead th {\n",
       "        text-align: right;\n",
       "    }\n",
       "</style>\n",
       "<table border=\"1\" class=\"dataframe\">\n",
       "  <thead>\n",
       "    <tr style=\"text-align: right;\">\n",
       "      <th></th>\n",
       "      <th>대분류</th>\n",
       "      <th>중분료</th>\n",
       "      <th>업종명</th>\n",
       "      <th>종목명</th>\n",
       "      <th>종목코드</th>\n",
       "    </tr>\n",
       "  </thead>\n",
       "  <tbody>\n",
       "    <tr>\n",
       "      <th>0</th>\n",
       "      <td>주식(ETF)</td>\n",
       "      <td>유가</td>\n",
       "      <td>KOSPI</td>\n",
       "      <td>KODEX 200</td>\n",
       "      <td>069500</td>\n",
       "    </tr>\n",
       "    <tr>\n",
       "      <th>1</th>\n",
       "      <td>주식(ETF)</td>\n",
       "      <td>유가</td>\n",
       "      <td>KOSPI</td>\n",
       "      <td>TIGER 200</td>\n",
       "      <td>102110</td>\n",
       "    </tr>\n",
       "  </tbody>\n",
       "</table>\n",
       "</div>"
      ],
      "text/plain": [
       "       대분류 중분료    업종명        종목명    종목코드\n",
       "0  주식(ETF)  유가  KOSPI  KODEX 200  069500\n",
       "1  주식(ETF)  유가  KOSPI  TIGER 200  102110"
      ]
     },
     "execution_count": 7,
     "metadata": {},
     "output_type": "execute_result"
    }
   ],
   "source": [
    "meta2df.head(2)"
   ]
  },
  {
   "cell_type": "code",
   "execution_count": 8,
   "metadata": {
    "execution": {
     "iopub.execute_input": "2020-09-28T12:25:59.957931Z",
     "iopub.status.busy": "2020-09-28T12:25:59.957931Z",
     "iopub.status.idle": "2020-09-28T12:25:59.963924Z",
     "shell.execute_reply": "2020-09-28T12:25:59.962921Z",
     "shell.execute_reply.started": "2020-09-28T12:25:59.957931Z"
    }
   },
   "outputs": [
    {
     "data": {
      "text/plain": [
       "set()"
      ]
     },
     "execution_count": 8,
     "metadata": {},
     "output_type": "execute_result"
    }
   ],
   "source": [
    "set(metadf['종목코드'].values) & set(meta2df['종목코드'].values)"
   ]
  },
  {
   "cell_type": "markdown",
   "metadata": {},
   "source": [
    "## 회사명 <--> 종목코드간 변환 위한 dictionary 준비"
   ]
  },
  {
   "cell_type": "code",
   "execution_count": 9,
   "metadata": {
    "execution": {
     "iopub.execute_input": "2020-09-28T12:26:00.469920Z",
     "iopub.status.busy": "2020-09-28T12:26:00.469920Z",
     "iopub.status.idle": "2020-09-28T12:26:00.475922Z",
     "shell.execute_reply": "2020-09-28T12:26:00.474919Z",
     "shell.execute_reply.started": "2020-09-28T12:26:00.469920Z"
    }
   },
   "outputs": [],
   "source": [
    "name2code_dict = dict(zip( metadf['기업명'].values, metadf['종목코드'].values))\n",
    "code2name_dict = dict(zip( metadf['종목코드'].values, metadf['기업명'].values))"
   ]
  },
  {
   "cell_type": "code",
   "execution_count": 10,
   "metadata": {
    "execution": {
     "iopub.execute_input": "2020-09-28T12:26:00.845935Z",
     "iopub.status.busy": "2020-09-28T12:26:00.844935Z",
     "iopub.status.idle": "2020-09-28T12:26:00.850920Z",
     "shell.execute_reply": "2020-09-28T12:26:00.849930Z",
     "shell.execute_reply.started": "2020-09-28T12:26:00.845935Z"
    }
   },
   "outputs": [],
   "source": [
    "name2code_dict.update(dict(zip( meta2df['종목명'].values, meta2df['종목코드'].values)) )\n",
    "code2name_dict.update(dict(zip( meta2df['종목코드'].values, meta2df['종목명'].values)))"
   ]
  },
  {
   "cell_type": "code",
   "execution_count": 11,
   "metadata": {
    "execution": {
     "iopub.execute_input": "2020-09-28T12:26:01.421936Z",
     "iopub.status.busy": "2020-09-28T12:26:01.420935Z",
     "iopub.status.idle": "2020-09-28T12:26:01.428921Z",
     "shell.execute_reply": "2020-09-28T12:26:01.427921Z",
     "shell.execute_reply.started": "2020-09-28T12:26:01.421936Z"
    }
   },
   "outputs": [
    {
     "data": {
      "text/plain": [
       "('069500', '005930', '삼성전자')"
      ]
     },
     "execution_count": 11,
     "metadata": {},
     "output_type": "execute_result"
    }
   ],
   "source": [
    "name2code_dict['KODEX 200'], name2code_dict['삼성전자'], code2name_dict['005930']"
   ]
  },
  {
   "cell_type": "markdown",
   "metadata": {},
   "source": [
    "# pandas_datareader 설명 <br>\n",
    "\n",
    "- https://pandas-datareader.readthedocs.io/en/latest/remote_data.html"
   ]
  },
  {
   "cell_type": "markdown",
   "metadata": {},
   "source": [
    "- 원격의 데이터를 pandas로 쉽게 읽어 들이기 위한 패키지. \n",
    "다양한 데이터를 목표로 하였으나, 전체 16개 정도의 데이터 소스 중에서 OECD 통계 (https://stats.oecd.org/), Eurostat (https://ec.europa.eu/eurostat/) , Enigma (https://enigma.com/) 정도를 제외한 나머지는 주식 정보와 같은 financial 데이터임"
   ]
  },
  {
   "cell_type": "markdown",
   "metadata": {
    "execution": {
     "iopub.execute_input": "2020-08-19T13:51:51.630871Z",
     "iopub.status.busy": "2020-08-19T13:51:51.629871Z",
     "iopub.status.idle": "2020-08-19T13:51:51.638875Z",
     "shell.execute_reply": "2020-08-19T13:51:51.637877Z",
     "shell.execute_reply.started": "2020-08-19T13:51:51.629871Z"
    }
   },
   "source": [
    "- Naver 증권 데이터가 pandas_datareader에서 지원됨. Yahoo Finace도 한국 증권정보를 지원하나, 안정성을 위해\n",
    "Naver를 사용키로 함"
   ]
  },
  {
   "cell_type": "markdown",
   "metadata": {},
   "source": [
    "- 기업 경영 상태에 대한 정보는 다트 (http://dart.fss.or.kr/)를 통해서 알아보자. <br>\n",
    "다트는 기업정보 전자공시 사이트로서 기업의 경영 상태에 대한 상세한 정보를 구할 수 있다. <br>\n",
    "(참고로, 미국과 유럽에는 없고 한국에만 있는 시스템이라 워렌 버핏이  극찬한 시스템이라고 함)"
   ]
  },
  {
   "cell_type": "markdown",
   "metadata": {},
   "source": [
    "# Utility Function을 만들어 보자"
   ]
  },
  {
   "cell_type": "markdown",
   "metadata": {},
   "source": [
    "- 관심 있는 기업의 주가 정보, 회사 이름으로 가져오는 기능을 구축해 보자!"
   ]
  },
  {
   "cell_type": "markdown",
   "metadata": {},
   "source": [
    "## pandas_datareader 사용법"
   ]
  },
  {
   "cell_type": "code",
   "execution_count": 12,
   "metadata": {
    "execution": {
     "iopub.execute_input": "2020-09-28T12:26:03.669934Z",
     "iopub.status.busy": "2020-09-28T12:26:03.669934Z",
     "iopub.status.idle": "2020-09-28T12:26:03.752951Z",
     "shell.execute_reply": "2020-09-28T12:26:03.751924Z",
     "shell.execute_reply.started": "2020-09-28T12:26:03.669934Z"
    }
   },
   "outputs": [
    {
     "data": {
      "text/html": [
       "<div>\n",
       "<style scoped>\n",
       "    .dataframe tbody tr th:only-of-type {\n",
       "        vertical-align: middle;\n",
       "    }\n",
       "\n",
       "    .dataframe tbody tr th {\n",
       "        vertical-align: top;\n",
       "    }\n",
       "\n",
       "    .dataframe thead th {\n",
       "        text-align: right;\n",
       "    }\n",
       "</style>\n",
       "<table border=\"1\" class=\"dataframe\">\n",
       "  <thead>\n",
       "    <tr style=\"text-align: right;\">\n",
       "      <th></th>\n",
       "      <th>Open</th>\n",
       "      <th>High</th>\n",
       "      <th>Low</th>\n",
       "      <th>Close</th>\n",
       "      <th>Volume</th>\n",
       "    </tr>\n",
       "    <tr>\n",
       "      <th>Date</th>\n",
       "      <th></th>\n",
       "      <th></th>\n",
       "      <th></th>\n",
       "      <th></th>\n",
       "      <th></th>\n",
       "    </tr>\n",
       "  </thead>\n",
       "  <tbody>\n",
       "    <tr>\n",
       "      <th>2020-08-03</th>\n",
       "      <td>8560</td>\n",
       "      <td>8650</td>\n",
       "      <td>8280</td>\n",
       "      <td>8530</td>\n",
       "      <td>250642</td>\n",
       "    </tr>\n",
       "    <tr>\n",
       "      <th>2020-08-04</th>\n",
       "      <td>8550</td>\n",
       "      <td>9050</td>\n",
       "      <td>8310</td>\n",
       "      <td>9000</td>\n",
       "      <td>543993</td>\n",
       "    </tr>\n",
       "    <tr>\n",
       "      <th>2020-08-05</th>\n",
       "      <td>9040</td>\n",
       "      <td>9110</td>\n",
       "      <td>8820</td>\n",
       "      <td>9000</td>\n",
       "      <td>250344</td>\n",
       "    </tr>\n",
       "    <tr>\n",
       "      <th>2020-08-06</th>\n",
       "      <td>8960</td>\n",
       "      <td>9000</td>\n",
       "      <td>8650</td>\n",
       "      <td>8800</td>\n",
       "      <td>253172</td>\n",
       "    </tr>\n",
       "    <tr>\n",
       "      <th>2020-08-07</th>\n",
       "      <td>8800</td>\n",
       "      <td>8880</td>\n",
       "      <td>8640</td>\n",
       "      <td>8690</td>\n",
       "      <td>217212</td>\n",
       "    </tr>\n",
       "    <tr>\n",
       "      <th>2020-08-10</th>\n",
       "      <td>8790</td>\n",
       "      <td>9100</td>\n",
       "      <td>8650</td>\n",
       "      <td>8830</td>\n",
       "      <td>406855</td>\n",
       "    </tr>\n",
       "    <tr>\n",
       "      <th>2020-08-11</th>\n",
       "      <td>8880</td>\n",
       "      <td>9130</td>\n",
       "      <td>8850</td>\n",
       "      <td>9130</td>\n",
       "      <td>577527</td>\n",
       "    </tr>\n",
       "    <tr>\n",
       "      <th>2020-08-12</th>\n",
       "      <td>9230</td>\n",
       "      <td>9550</td>\n",
       "      <td>8920</td>\n",
       "      <td>9530</td>\n",
       "      <td>872553</td>\n",
       "    </tr>\n",
       "    <tr>\n",
       "      <th>2020-08-13</th>\n",
       "      <td>9530</td>\n",
       "      <td>10950</td>\n",
       "      <td>9530</td>\n",
       "      <td>10000</td>\n",
       "      <td>1499683</td>\n",
       "    </tr>\n",
       "    <tr>\n",
       "      <th>2020-08-14</th>\n",
       "      <td>10050</td>\n",
       "      <td>10100</td>\n",
       "      <td>9500</td>\n",
       "      <td>9670</td>\n",
       "      <td>533817</td>\n",
       "    </tr>\n",
       "  </tbody>\n",
       "</table>\n",
       "</div>"
      ],
      "text/plain": [
       "             Open   High   Low  Close   Volume\n",
       "Date                                          \n",
       "2020-08-03   8560   8650  8280   8530   250642\n",
       "2020-08-04   8550   9050  8310   9000   543993\n",
       "2020-08-05   9040   9110  8820   9000   250344\n",
       "2020-08-06   8960   9000  8650   8800   253172\n",
       "2020-08-07   8800   8880  8640   8690   217212\n",
       "2020-08-10   8790   9100  8650   8830   406855\n",
       "2020-08-11   8880   9130  8850   9130   577527\n",
       "2020-08-12   9230   9550  8920   9530   872553\n",
       "2020-08-13   9530  10950  9530  10000  1499683\n",
       "2020-08-14  10050  10100  9500   9670   533817"
      ]
     },
     "execution_count": 12,
     "metadata": {},
     "output_type": "execute_result"
    }
   ],
   "source": [
    "pdrdata.DataReader('054620', 'naver', '2020-08-01','2020-08-15')"
   ]
  },
  {
   "cell_type": "markdown",
   "metadata": {},
   "source": [
    "## 회사별 주식 정보를 리턴"
   ]
  },
  {
   "cell_type": "code",
   "execution_count": 13,
   "metadata": {
    "execution": {
     "iopub.execute_input": "2020-09-28T12:26:04.948937Z",
     "iopub.status.busy": "2020-09-28T12:26:04.947918Z",
     "iopub.status.idle": "2020-09-28T12:26:04.955920Z",
     "shell.execute_reply": "2020-09-28T12:26:04.954935Z",
     "shell.execute_reply.started": "2020-09-28T12:26:04.948937Z"
    }
   },
   "outputs": [],
   "source": [
    "def getStockHistory(companylist, start='2018-01-01', end=datetime.datetime.now().strftime('%Y-%m-%d')):\n",
    "    \"\"\"\n",
    "    return the stock histories of the companies given\n",
    "    \n",
    "    Parameters:\n",
    "        companylist : list - list of company names or codes \n",
    "        start       : Str - start date string\n",
    "        end         : Str - end date string\n",
    "        \n",
    "    Returns:\n",
    "        list : list of stock history data frame\n",
    "    \"\"\"\n",
    "    \n",
    "    if isinstance(companylist[0], str) and not companylist[0].isnumeric():\n",
    "        companylist = [name2code_dict[name] for name in companylist]\n",
    "    \n",
    "    dflist = [pdrdata.DataReader(code, 'naver', start, end) for code in companylist]\n",
    "    dflist2 = [df.apply(pd.to_numeric) for df in dflist]\n",
    "    \n",
    "    for idx, code in enumerate(companylist):\n",
    "        dflist2[idx]['name'] = code2name_dict[code]      # index에 회사명을 추가\n",
    "        dflist2[idx] = dflist2[idx].set_index('name', append=True).unstack()   # index의 회사명을 column으로 보내기\n",
    "        dflist2[idx] = dflist2[idx].swaplevel(0,1,1)\n",
    "    return pd.concat(dflist2, axis=1)"
   ]
  },
  {
   "cell_type": "code",
   "execution_count": 14,
   "metadata": {
    "execution": {
     "iopub.execute_input": "2020-09-28T12:26:05.649921Z",
     "iopub.status.busy": "2020-09-28T12:26:05.649921Z",
     "iopub.status.idle": "2020-09-28T12:26:05.897920Z",
     "shell.execute_reply": "2020-09-28T12:26:05.897920Z",
     "shell.execute_reply.started": "2020-09-28T12:26:05.649921Z"
    }
   },
   "outputs": [
    {
     "data": {
      "text/html": [
       "<div>\n",
       "<style scoped>\n",
       "    .dataframe tbody tr th:only-of-type {\n",
       "        vertical-align: middle;\n",
       "    }\n",
       "\n",
       "    .dataframe tbody tr th {\n",
       "        vertical-align: top;\n",
       "    }\n",
       "\n",
       "    .dataframe thead tr th {\n",
       "        text-align: left;\n",
       "    }\n",
       "\n",
       "    .dataframe thead tr:last-of-type th {\n",
       "        text-align: right;\n",
       "    }\n",
       "</style>\n",
       "<table border=\"1\" class=\"dataframe\">\n",
       "  <thead>\n",
       "    <tr>\n",
       "      <th>name</th>\n",
       "      <th colspan=\"5\" halign=\"left\">삼성전자</th>\n",
       "      <th colspan=\"5\" halign=\"left\">LG화학</th>\n",
       "    </tr>\n",
       "    <tr>\n",
       "      <th></th>\n",
       "      <th>Open</th>\n",
       "      <th>High</th>\n",
       "      <th>Low</th>\n",
       "      <th>Close</th>\n",
       "      <th>Volume</th>\n",
       "      <th>Open</th>\n",
       "      <th>High</th>\n",
       "      <th>Low</th>\n",
       "      <th>Close</th>\n",
       "      <th>Volume</th>\n",
       "    </tr>\n",
       "    <tr>\n",
       "      <th>Date</th>\n",
       "      <th></th>\n",
       "      <th></th>\n",
       "      <th></th>\n",
       "      <th></th>\n",
       "      <th></th>\n",
       "      <th></th>\n",
       "      <th></th>\n",
       "      <th></th>\n",
       "      <th></th>\n",
       "      <th></th>\n",
       "    </tr>\n",
       "  </thead>\n",
       "  <tbody>\n",
       "    <tr>\n",
       "      <th>2010-08-02</th>\n",
       "      <td>16340</td>\n",
       "      <td>16360</td>\n",
       "      <td>16200</td>\n",
       "      <td>16200</td>\n",
       "      <td>249388</td>\n",
       "      <td>334000</td>\n",
       "      <td>343000</td>\n",
       "      <td>332000</td>\n",
       "      <td>343000</td>\n",
       "      <td>303805</td>\n",
       "    </tr>\n",
       "    <tr>\n",
       "      <th>2010-08-03</th>\n",
       "      <td>16400</td>\n",
       "      <td>16440</td>\n",
       "      <td>16300</td>\n",
       "      <td>16300</td>\n",
       "      <td>262302</td>\n",
       "      <td>340000</td>\n",
       "      <td>343000</td>\n",
       "      <td>334500</td>\n",
       "      <td>343000</td>\n",
       "      <td>359051</td>\n",
       "    </tr>\n",
       "    <tr>\n",
       "      <th>2010-08-04</th>\n",
       "      <td>16340</td>\n",
       "      <td>16360</td>\n",
       "      <td>16120</td>\n",
       "      <td>16120</td>\n",
       "      <td>213434</td>\n",
       "      <td>343500</td>\n",
       "      <td>344000</td>\n",
       "      <td>337000</td>\n",
       "      <td>339000</td>\n",
       "      <td>231541</td>\n",
       "    </tr>\n",
       "    <tr>\n",
       "      <th>2010-08-05</th>\n",
       "      <td>16220</td>\n",
       "      <td>16360</td>\n",
       "      <td>16060</td>\n",
       "      <td>16080</td>\n",
       "      <td>280897</td>\n",
       "      <td>340000</td>\n",
       "      <td>341500</td>\n",
       "      <td>324000</td>\n",
       "      <td>330500</td>\n",
       "      <td>403689</td>\n",
       "    </tr>\n",
       "    <tr>\n",
       "      <th>2010-08-06</th>\n",
       "      <td>16200</td>\n",
       "      <td>16200</td>\n",
       "      <td>15979</td>\n",
       "      <td>16020</td>\n",
       "      <td>247165</td>\n",
       "      <td>324500</td>\n",
       "      <td>329500</td>\n",
       "      <td>315500</td>\n",
       "      <td>327000</td>\n",
       "      <td>375963</td>\n",
       "    </tr>\n",
       "  </tbody>\n",
       "</table>\n",
       "</div>"
      ],
      "text/plain": [
       "name         삼성전자                                 LG화학                  \\\n",
       "             Open   High    Low  Close  Volume    Open    High     Low   \n",
       "Date                                                                     \n",
       "2010-08-02  16340  16360  16200  16200  249388  334000  343000  332000   \n",
       "2010-08-03  16400  16440  16300  16300  262302  340000  343000  334500   \n",
       "2010-08-04  16340  16360  16120  16120  213434  343500  344000  337000   \n",
       "2010-08-05  16220  16360  16060  16080  280897  340000  341500  324000   \n",
       "2010-08-06  16200  16200  15979  16020  247165  324500  329500  315500   \n",
       "\n",
       "name                        \n",
       "             Close  Volume  \n",
       "Date                        \n",
       "2010-08-02  343000  303805  \n",
       "2010-08-03  343000  359051  \n",
       "2010-08-04  339000  231541  \n",
       "2010-08-05  330500  403689  \n",
       "2010-08-06  327000  375963  "
      ]
     },
     "execution_count": 14,
     "metadata": {},
     "output_type": "execute_result"
    }
   ],
   "source": [
    "getStockHistory([\"삼성전자\",\"LG화학\"], start='2010-08-01').head(5)"
   ]
  },
  {
   "cell_type": "markdown",
   "metadata": {},
   "source": [
    "<div class=\"alert alert-block alert-info\">\n",
    "<b> Tip:</b> Open(시가), High (최고가), Low (최저가), Close (종가), Volumne(거래량) </b> <br>\n",
    "</div>"
   ]
  },
  {
   "cell_type": "markdown",
   "metadata": {},
   "source": [
    "## 업종별 회사 리스트 "
   ]
  },
  {
   "cell_type": "code",
   "execution_count": 15,
   "metadata": {
    "execution": {
     "iopub.execute_input": "2020-09-28T12:26:07.244935Z",
     "iopub.status.busy": "2020-09-28T12:26:07.243935Z",
     "iopub.status.idle": "2020-09-28T12:26:07.250921Z",
     "shell.execute_reply": "2020-09-28T12:26:07.249936Z",
     "shell.execute_reply.started": "2020-09-28T12:26:07.244935Z"
    }
   },
   "outputs": [],
   "source": [
    "def get_cclist_by_subject(subject):\n",
    "    cclist = metadf[metadf['업종'] == subject]['종목코드'].values\n",
    "    if len(cclist) == 0:\n",
    "        raise ValueError(\"없는 업종\")\n",
    "        \n",
    "    return cclist"
   ]
  },
  {
   "cell_type": "code",
   "execution_count": 16,
   "metadata": {
    "execution": {
     "iopub.execute_input": "2020-09-28T12:26:07.504937Z",
     "iopub.status.busy": "2020-09-28T12:26:07.504937Z",
     "iopub.status.idle": "2020-09-28T12:26:07.511919Z",
     "shell.execute_reply": "2020-09-28T12:26:07.510937Z",
     "shell.execute_reply.started": "2020-09-28T12:26:07.504937Z"
    }
   },
   "outputs": [
    {
     "data": {
      "text/plain": [
       "array(['138610', '142280', '343090', '233250', '059210', '206640',\n",
       "       '064550', '100700', '253840', '096530', '246720', '260660',\n",
       "       '174900', '950130', '153710', '278380', '246960', '086890',\n",
       "       '216080', '229000', '228760', '046210', '303360', '241820',\n",
       "       '042520', '205470'], dtype=object)"
      ]
     },
     "execution_count": 16,
     "metadata": {},
     "output_type": "execute_result"
    }
   ],
   "source": [
    "get_cclist_by_subject('의료용품 및 기타 의약 관련제품 제조업')"
   ]
  },
  {
   "cell_type": "code",
   "execution_count": 17,
   "metadata": {
    "execution": {
     "iopub.execute_input": "2020-09-28T12:26:08.792923Z",
     "iopub.status.busy": "2020-09-28T12:26:08.792923Z",
     "iopub.status.idle": "2020-09-28T12:26:10.242921Z",
     "shell.execute_reply": "2020-09-28T12:26:10.242921Z",
     "shell.execute_reply.started": "2020-09-28T12:26:08.792923Z"
    }
   },
   "outputs": [
    {
     "data": {
      "text/html": [
       "<div>\n",
       "<style scoped>\n",
       "    .dataframe tbody tr th:only-of-type {\n",
       "        vertical-align: middle;\n",
       "    }\n",
       "\n",
       "    .dataframe tbody tr th {\n",
       "        vertical-align: top;\n",
       "    }\n",
       "\n",
       "    .dataframe thead tr th {\n",
       "        text-align: left;\n",
       "    }\n",
       "\n",
       "    .dataframe thead tr:last-of-type th {\n",
       "        text-align: right;\n",
       "    }\n",
       "</style>\n",
       "<table border=\"1\" class=\"dataframe\">\n",
       "  <thead>\n",
       "    <tr>\n",
       "      <th>name</th>\n",
       "      <th colspan=\"5\" halign=\"left\">나이벡</th>\n",
       "      <th colspan=\"5\" halign=\"left\">녹십자엠에스</th>\n",
       "      <th>...</th>\n",
       "      <th colspan=\"5\" halign=\"left\">한스바이오메드</th>\n",
       "      <th colspan=\"5\" halign=\"left\">휴마시스</th>\n",
       "    </tr>\n",
       "    <tr>\n",
       "      <th></th>\n",
       "      <th>Open</th>\n",
       "      <th>High</th>\n",
       "      <th>Low</th>\n",
       "      <th>Close</th>\n",
       "      <th>Volume</th>\n",
       "      <th>Open</th>\n",
       "      <th>High</th>\n",
       "      <th>Low</th>\n",
       "      <th>Close</th>\n",
       "      <th>Volume</th>\n",
       "      <th>...</th>\n",
       "      <th>Open</th>\n",
       "      <th>High</th>\n",
       "      <th>Low</th>\n",
       "      <th>Close</th>\n",
       "      <th>Volume</th>\n",
       "      <th>Open</th>\n",
       "      <th>High</th>\n",
       "      <th>Low</th>\n",
       "      <th>Close</th>\n",
       "      <th>Volume</th>\n",
       "    </tr>\n",
       "    <tr>\n",
       "      <th>Date</th>\n",
       "      <th></th>\n",
       "      <th></th>\n",
       "      <th></th>\n",
       "      <th></th>\n",
       "      <th></th>\n",
       "      <th></th>\n",
       "      <th></th>\n",
       "      <th></th>\n",
       "      <th></th>\n",
       "      <th></th>\n",
       "      <th></th>\n",
       "      <th></th>\n",
       "      <th></th>\n",
       "      <th></th>\n",
       "      <th></th>\n",
       "      <th></th>\n",
       "      <th></th>\n",
       "      <th></th>\n",
       "      <th></th>\n",
       "      <th></th>\n",
       "      <th></th>\n",
       "    </tr>\n",
       "  </thead>\n",
       "  <tbody>\n",
       "    <tr>\n",
       "      <th>2020-08-21</th>\n",
       "      <td>21700</td>\n",
       "      <td>22800</td>\n",
       "      <td>20200</td>\n",
       "      <td>20750</td>\n",
       "      <td>493272</td>\n",
       "      <td>11250</td>\n",
       "      <td>11300</td>\n",
       "      <td>10550</td>\n",
       "      <td>10600</td>\n",
       "      <td>565411</td>\n",
       "      <td>...</td>\n",
       "      <td>18400</td>\n",
       "      <td>19800</td>\n",
       "      <td>17500</td>\n",
       "      <td>19750</td>\n",
       "      <td>146136</td>\n",
       "      <td>15100</td>\n",
       "      <td>15100</td>\n",
       "      <td>14050</td>\n",
       "      <td>14050</td>\n",
       "      <td>4284923</td>\n",
       "    </tr>\n",
       "    <tr>\n",
       "      <th>2020-08-24</th>\n",
       "      <td>20600</td>\n",
       "      <td>20600</td>\n",
       "      <td>18600</td>\n",
       "      <td>20200</td>\n",
       "      <td>254572</td>\n",
       "      <td>11400</td>\n",
       "      <td>11400</td>\n",
       "      <td>10750</td>\n",
       "      <td>11100</td>\n",
       "      <td>939253</td>\n",
       "      <td>...</td>\n",
       "      <td>19600</td>\n",
       "      <td>19600</td>\n",
       "      <td>18900</td>\n",
       "      <td>19300</td>\n",
       "      <td>62982</td>\n",
       "      <td>13800</td>\n",
       "      <td>14500</td>\n",
       "      <td>13700</td>\n",
       "      <td>14000</td>\n",
       "      <td>2018302</td>\n",
       "    </tr>\n",
       "  </tbody>\n",
       "</table>\n",
       "<p>2 rows × 130 columns</p>\n",
       "</div>"
      ],
      "text/plain": [
       "name          나이벡                              녹십자엠에스                       \\\n",
       "             Open   High    Low  Close  Volume   Open   High    Low  Close   \n",
       "Date                                                                         \n",
       "2020-08-21  21700  22800  20200  20750  493272  11250  11300  10550  10600   \n",
       "2020-08-24  20600  20600  18600  20200  254572  11400  11400  10750  11100   \n",
       "\n",
       "name                ... 한스바이오메드                                휴마시스         \\\n",
       "            Volume  ...    Open   High    Low  Close  Volume   Open   High   \n",
       "Date                ...                                                      \n",
       "2020-08-21  565411  ...   18400  19800  17500  19750  146136  15100  15100   \n",
       "2020-08-24  939253  ...   19600  19600  18900  19300   62982  13800  14500   \n",
       "\n",
       "name                               \n",
       "              Low  Close   Volume  \n",
       "Date                               \n",
       "2020-08-21  14050  14050  4284923  \n",
       "2020-08-24  13700  14000  2018302  \n",
       "\n",
       "[2 rows x 130 columns]"
      ]
     },
     "execution_count": 17,
     "metadata": {},
     "output_type": "execute_result"
    }
   ],
   "source": [
    "getStockHistory(get_cclist_by_subject('의료용품 및 기타 의약 관련제품 제조업'),'2020-08-20','2020-08-24')"
   ]
  },
  {
   "cell_type": "markdown",
   "metadata": {},
   "source": [
    "# 주식 챠트를 그려보자"
   ]
  },
  {
   "cell_type": "markdown",
   "metadata": {},
   "source": [
    "## 한글 폰트 등록"
   ]
  },
  {
   "cell_type": "code",
   "execution_count": 18,
   "metadata": {
    "execution": {
     "iopub.execute_input": "2020-09-28T12:26:11.419935Z",
     "iopub.status.busy": "2020-09-28T12:26:11.419935Z",
     "iopub.status.idle": "2020-09-28T12:26:11.426925Z",
     "shell.execute_reply": "2020-09-28T12:26:11.425918Z",
     "shell.execute_reply.started": "2020-09-28T12:26:11.419935Z"
    }
   },
   "outputs": [],
   "source": [
    "import matplotlib.font_manager as fm\n",
    "font_name = fm.FontProperties(fname='C:\\\\WINDOWS\\\\Fonts\\\\HYWULM.TTF').get_name()\n",
    "plt.rc('font', family=font_name)"
   ]
  },
  {
   "cell_type": "markdown",
   "metadata": {},
   "source": [
    "## 회사 챠트 그려보기 "
   ]
  },
  {
   "cell_type": "code",
   "execution_count": 19,
   "metadata": {
    "execution": {
     "iopub.execute_input": "2020-09-28T12:26:12.718941Z",
     "iopub.status.busy": "2020-09-28T12:26:12.718941Z",
     "iopub.status.idle": "2020-09-28T12:26:12.723924Z",
     "shell.execute_reply": "2020-09-28T12:26:12.722921Z",
     "shell.execute_reply.started": "2020-09-28T12:26:12.718941Z"
    }
   },
   "outputs": [],
   "source": [
    "name = \"씨젠\""
   ]
  },
  {
   "cell_type": "code",
   "execution_count": 20,
   "metadata": {
    "execution": {
     "iopub.execute_input": "2020-09-28T12:26:13.620920Z",
     "iopub.status.busy": "2020-09-28T12:26:13.620920Z",
     "iopub.status.idle": "2020-09-28T12:26:13.683935Z",
     "shell.execute_reply": "2020-09-28T12:26:13.683935Z",
     "shell.execute_reply.started": "2020-09-28T12:26:13.620920Z"
    }
   },
   "outputs": [],
   "source": [
    "stockdf = getStockHistory([name], start='2019-01-01')"
   ]
  },
  {
   "cell_type": "code",
   "execution_count": 21,
   "metadata": {
    "execution": {
     "iopub.execute_input": "2020-09-28T12:26:14.279924Z",
     "iopub.status.busy": "2020-09-28T12:26:14.279924Z",
     "iopub.status.idle": "2020-09-28T12:26:14.290924Z",
     "shell.execute_reply": "2020-09-28T12:26:14.290924Z",
     "shell.execute_reply.started": "2020-09-28T12:26:14.279924Z"
    }
   },
   "outputs": [
    {
     "data": {
      "text/html": [
       "<div>\n",
       "<style scoped>\n",
       "    .dataframe tbody tr th:only-of-type {\n",
       "        vertical-align: middle;\n",
       "    }\n",
       "\n",
       "    .dataframe tbody tr th {\n",
       "        vertical-align: top;\n",
       "    }\n",
       "\n",
       "    .dataframe thead tr th {\n",
       "        text-align: left;\n",
       "    }\n",
       "\n",
       "    .dataframe thead tr:last-of-type th {\n",
       "        text-align: right;\n",
       "    }\n",
       "</style>\n",
       "<table border=\"1\" class=\"dataframe\">\n",
       "  <thead>\n",
       "    <tr>\n",
       "      <th>name</th>\n",
       "      <th colspan=\"5\" halign=\"left\">씨젠</th>\n",
       "    </tr>\n",
       "    <tr>\n",
       "      <th></th>\n",
       "      <th>Open</th>\n",
       "      <th>High</th>\n",
       "      <th>Low</th>\n",
       "      <th>Close</th>\n",
       "      <th>Volume</th>\n",
       "    </tr>\n",
       "    <tr>\n",
       "      <th>Date</th>\n",
       "      <th></th>\n",
       "      <th></th>\n",
       "      <th></th>\n",
       "      <th></th>\n",
       "      <th></th>\n",
       "    </tr>\n",
       "  </thead>\n",
       "  <tbody>\n",
       "    <tr>\n",
       "      <th>2019-01-02</th>\n",
       "      <td>16200</td>\n",
       "      <td>16300</td>\n",
       "      <td>15500</td>\n",
       "      <td>15600</td>\n",
       "      <td>107409</td>\n",
       "    </tr>\n",
       "    <tr>\n",
       "      <th>2019-01-03</th>\n",
       "      <td>15600</td>\n",
       "      <td>15700</td>\n",
       "      <td>14700</td>\n",
       "      <td>14750</td>\n",
       "      <td>188496</td>\n",
       "    </tr>\n",
       "    <tr>\n",
       "      <th>2019-01-04</th>\n",
       "      <td>14500</td>\n",
       "      <td>15200</td>\n",
       "      <td>14450</td>\n",
       "      <td>15000</td>\n",
       "      <td>177514</td>\n",
       "    </tr>\n",
       "    <tr>\n",
       "      <th>2019-01-07</th>\n",
       "      <td>15200</td>\n",
       "      <td>15400</td>\n",
       "      <td>14950</td>\n",
       "      <td>15200</td>\n",
       "      <td>132940</td>\n",
       "    </tr>\n",
       "    <tr>\n",
       "      <th>2019-01-08</th>\n",
       "      <td>15400</td>\n",
       "      <td>16150</td>\n",
       "      <td>15150</td>\n",
       "      <td>15600</td>\n",
       "      <td>200127</td>\n",
       "    </tr>\n",
       "  </tbody>\n",
       "</table>\n",
       "</div>"
      ],
      "text/plain": [
       "name           씨젠                             \n",
       "             Open   High    Low  Close  Volume\n",
       "Date                                          \n",
       "2019-01-02  16200  16300  15500  15600  107409\n",
       "2019-01-03  15600  15700  14700  14750  188496\n",
       "2019-01-04  14500  15200  14450  15000  177514\n",
       "2019-01-07  15200  15400  14950  15200  132940\n",
       "2019-01-08  15400  16150  15150  15600  200127"
      ]
     },
     "execution_count": 21,
     "metadata": {},
     "output_type": "execute_result"
    }
   ],
   "source": [
    "stockdf.head()"
   ]
  },
  {
   "cell_type": "code",
   "execution_count": 22,
   "metadata": {
    "execution": {
     "iopub.execute_input": "2020-09-28T12:26:15.581934Z",
     "iopub.status.busy": "2020-09-28T12:26:15.581934Z",
     "iopub.status.idle": "2020-09-28T12:26:15.826920Z",
     "shell.execute_reply": "2020-09-28T12:26:15.826920Z",
     "shell.execute_reply.started": "2020-09-28T12:26:15.581934Z"
    }
   },
   "outputs": [
    {
     "data": {
      "text/plain": [
       "<AxesSubplot:xlabel='Date'>"
      ]
     },
     "execution_count": 22,
     "metadata": {},
     "output_type": "execute_result"
    },
    {
     "data": {
      "image/png": "[encoded data removed]",
      "text/plain": [
       "<Figure size 864x288 with 1 Axes>"
      ]
     },
     "metadata": {
      "needs_background": "light"
     },
     "output_type": "display_data"
    }
   ],
   "source": [
    "stockdf[(name,'Close')].plot(figsize=(12,4))"
   ]
  },
  {
   "cell_type": "markdown",
   "metadata": {},
   "source": [
    "## 회사 챠트 만들기 - 자유롭게 회사 선택"
   ]
  },
  {
   "cell_type": "markdown",
   "metadata": {},
   "source": [
    " - ipywidget을 활용해서 interactive하게 종목과 날짜를 바꾸어 볼 수 있는 그래프 그리기\n",
    " > widgets은 ipython(jupyter)에 interactive한 요소를 추가 해주는 기능"
   ]
  },
  {
   "cell_type": "code",
   "execution_count": 23,
   "metadata": {
    "execution": {
     "iopub.execute_input": "2020-09-28T12:26:18.420921Z",
     "iopub.status.busy": "2020-09-28T12:26:18.420921Z",
     "iopub.status.idle": "2020-09-28T12:26:18.424936Z",
     "shell.execute_reply": "2020-09-28T12:26:18.423936Z",
     "shell.execute_reply.started": "2020-09-28T12:26:18.420921Z"
    }
   },
   "outputs": [],
   "source": [
    "import ipywidgets as widgets"
   ]
  },
  {
   "cell_type": "markdown",
   "metadata": {},
   "source": [
    "> <b> 실제 그래프를 표시할 함수 만들기 </b> <br>\n",
    "> widget에서 리턴되는 내용들이 argument가 되어, 수행하는 함수 만들기. widget값이 바뀔 경우 함수가 자동 재수행됨"
   ]
  },
  {
   "cell_type": "code",
   "execution_count": 24,
   "metadata": {
    "execution": {
     "iopub.execute_input": "2020-09-28T12:26:19.563919Z",
     "iopub.status.busy": "2020-09-28T12:26:19.563919Z",
     "iopub.status.idle": "2020-09-28T12:26:19.569923Z",
     "shell.execute_reply": "2020-09-28T12:26:19.568920Z",
     "shell.execute_reply.started": "2020-09-28T12:26:19.563919Z"
    }
   },
   "outputs": [],
   "source": [
    "def draw_chart(name_list, date_range, values):\n",
    "    \"\"\"\n",
    "    \n",
    "    \"\"\"\n",
    "    fig,ax = plt.subplots(nrows=1, ncols=1, figsize=(16,6))\n",
    "    stockdf = getStockHistory([name_list], date_range[0].strftime(\"%Y-%m-%d\"), date_range[1].strftime(\"%Y-%m-%d\"))\n",
    "    stockdf = stockdf.droplevel(0, axis=1)\n",
    "    stockdf[list(values)].plot(ax=ax)\n",
    "    #plt.scatter(stockdf.index, targetdf['Close'], color='Black')"
   ]
  },
  {
   "cell_type": "markdown",
   "metadata": {},
   "source": [
    "> <b> 표시 기간/날짜를 선택하는 widget 만들기 </b> <br>\n",
    "> 먼저, 전체 기간의 시작과 끝을 정하고, 해당 기간을 선택할 option으로 만들어 제공하면 선택 결과가 tuple로 return됨"
   ]
  },
  {
   "cell_type": "code",
   "execution_count": 25,
   "metadata": {
    "execution": {
     "iopub.execute_input": "2020-09-28T12:26:21.381936Z",
     "iopub.status.busy": "2020-09-28T12:26:21.380926Z",
     "iopub.status.idle": "2020-09-28T12:26:21.404933Z",
     "shell.execute_reply": "2020-09-28T12:26:21.403924Z",
     "shell.execute_reply.started": "2020-09-28T12:26:21.380926Z"
    }
   },
   "outputs": [],
   "source": [
    "start_date = datetime.datetime(2019, 1, 1)\n",
    "end_date = datetime.datetime.now().date()\n",
    "dates = pd.date_range(start_date, end_date, freq='D')\n",
    "\n",
    "options = [(date.strftime(' %Y-%m-%d '), date) for date in dates]\n",
    "index = (0, len(options)-1)\n",
    "\n",
    "selection_range_slider = widgets.SelectionRangeSlider(\n",
    "    options=options,\n",
    "    index=index,\n",
    "    description='Dates',\n",
    "    orientation='horizontal',\n",
    "    layout={'width': '500px'}\n",
    ")"
   ]
  },
  {
   "cell_type": "markdown",
   "metadata": {},
   "source": [
    "> <b> 표시할 내용 선택 widget 만들기 </b> <br>\n",
    "> 여러 값들 중에서 선택한 내용이 리스트로 전달됨. 주의) 복수 선택 가능"
   ]
  },
  {
   "cell_type": "code",
   "execution_count": 26,
   "metadata": {
    "execution": {
     "iopub.execute_input": "2020-09-28T12:26:22.923919Z",
     "iopub.status.busy": "2020-09-28T12:26:22.922935Z",
     "iopub.status.idle": "2020-09-28T12:26:22.934937Z",
     "shell.execute_reply": "2020-09-28T12:26:22.933924Z",
     "shell.execute_reply.started": "2020-09-28T12:26:22.922935Z"
    }
   },
   "outputs": [],
   "source": [
    "selection_values = widgets.SelectMultiple(\n",
    "    options=['Open','Close','High','Low'],\n",
    "    value=['Close'],\n",
    "    description='Values',\n",
    "    disabled=False\n",
    ")"
   ]
  },
  {
   "cell_type": "markdown",
   "metadata": {},
   "source": [
    "> <b> widgets.ineract를 통해 interactive한 함수 기능 제공 </b> <br>\n",
    "> 준비해둔 widget과 함수를 연결해주는 내용"
   ]
  },
  {
   "cell_type": "code",
   "execution_count": 27,
   "metadata": {
    "execution": {
     "iopub.execute_input": "2020-09-28T12:26:23.823936Z",
     "iopub.status.busy": "2020-09-28T12:26:23.823936Z",
     "iopub.status.idle": "2020-09-28T12:26:24.172919Z",
     "shell.execute_reply": "2020-09-28T12:26:24.171936Z",
     "shell.execute_reply.started": "2020-09-28T12:26:23.823936Z"
    }
   },
   "outputs": [
    {
     "data": {
      "application/vnd.jupyter.widget-view+json": {
       "model_id": "eab4596ea0cc4bc28e162d603376b134",
       "version_major": 2,
       "version_minor": 0
      },
      "text/plain": [
       "interactive(children=(Dropdown(description='name_list', options=('3S', 'AJ네트웍스', 'AK홀딩스', 'APS홀딩스', 'AP시스템', '…"
      ]
     },
     "metadata": {},
     "output_type": "display_data"
    },
    {
     "data": {
      "text/plain": [
       "<function __main__.draw_chart(name_list, date_range, values)>"
      ]
     },
     "execution_count": 27,
     "metadata": {},
     "output_type": "execute_result"
    }
   ],
   "source": [
    "widgets.interact(draw_chart, name_list = name2code_dict.keys(), date_range=selection_range_slider, values=selection_values)"
   ]
  },
  {
   "cell_type": "markdown",
   "metadata": {},
   "source": [
    "<div class=\"alert alert-block alert-info\">\n",
    "<b> Tip:</b> draw_chart 함수를 개선해서, 거래량을 추가하거나 또는 두 개 이상의 회사 챠트를 그리는 것 도 가능 </b> <br>\n",
    "=> 나만의 주가 대시보드를 만들어보는 프로젝트도 가능!!\n",
    "</div>"
   ]
  },
  {
   "cell_type": "markdown",
   "metadata": {},
   "source": [
    "<hr>"
   ]
  },
  {
   "cell_type": "markdown",
   "metadata": {},
   "source": [
    "# 주가 투자 알고리즘의 성능 평가"
   ]
  },
  {
   "cell_type": "markdown",
   "metadata": {},
   "source": [
    "## 주가 투자 알고리즘 template 정의 "
   ]
  },
  {
   "cell_type": "markdown",
   "metadata": {},
   "source": [
    "- Close (종가) 기준으로 매수/매도 날짜를 추천 "
   ]
  },
  {
   "cell_type": "markdown",
   "metadata": {},
   "source": [
    "- 추천된 매수/매도 날짜 list를 가지고 투자의 결과를 평가"
   ]
  },
  {
   "cell_type": "markdown",
   "metadata": {},
   "source": [
    "## 주가 투자 알고리즘 성능 평가 함수 만들기"
   ]
  },
  {
   "cell_type": "markdown",
   "metadata": {},
   "source": [
    " - 알고리즘의 결과물로 나오는 (매수일자,매도일자) 리스트를 받아, 투자를 지속한 결과를 보여줌\n",
    " - 최종 출력은 (최종 보유 금액) / (첫 보유 금액) 에 대한 %를 출력"
   ]
  },
  {
   "cell_type": "code",
   "execution_count": 28,
   "metadata": {
    "execution": {
     "iopub.execute_input": "2020-09-28T12:26:57.180921Z",
     "iopub.status.busy": "2020-09-28T12:26:57.180921Z",
     "iopub.status.idle": "2020-09-28T12:26:57.186926Z",
     "shell.execute_reply": "2020-09-28T12:26:57.185931Z",
     "shell.execute_reply.started": "2020-09-28T12:26:57.180921Z"
    }
   },
   "outputs": [],
   "source": [
    "def measure_gains(tdf, invest_list, total_money=5_000_000, commision_perc=5):\n",
    "    \n",
    "    invest_money = total_money\n",
    "    tdf= tdf.resample('D').fillna('ffill')\n",
    "    tdf = tdf.droplevel(0, axis=1)\n",
    "    for [sdate,edate] in invest_list:\n",
    "        sdate_price = tdf.loc[sdate, 'Close']\n",
    "        stock_amount = invest_money // sdate_price\n",
    "        remain_money = invest_money - stock_amount * sdate_price\n",
    "        edate_price = tdf.loc[edate, 'Close']\n",
    "        invest_money = stock_amount * edate_price * (100-commision_perc)/100 + remain_money\n",
    "        \n",
    "    return invest_money / total_money * 100"
   ]
  },
  {
   "cell_type": "markdown",
   "metadata": {},
   "source": [
    "# 레퍼런스 투자 알고리즘을 만들어 보자\n",
    "> 미래의 주가 등락을 미리 알고 있어 매우 정확한 투자를 할 수 있는 알고리즘을 레퍼런스(비교) 알고리즘으로 상정 <br>\n",
    "> 세부 로직 : 3일 이상 계속 상승이 예상되면 매수, 가격 하락이 시작되기 직전 매도 <br>\n",
    "> suboptimal : 미래의 급등락을 정확하게 맞출 수 있으므로 비교 가능한 상황에서는 거의 최고 성능의 알고리즘"
   ]
  },
  {
   "cell_type": "markdown",
   "metadata": {},
   "source": [
    " - 한 회사의 주식 정보를 가지고 레퍼런스 알고리즘을 만들어 보자 <br>\n",
    " "
   ]
  },
  {
   "cell_type": "code",
   "execution_count": 29,
   "metadata": {
    "execution": {
     "iopub.execute_input": "2020-09-28T12:26:59.180921Z",
     "iopub.status.busy": "2020-09-28T12:26:59.180921Z",
     "iopub.status.idle": "2020-09-28T12:26:59.263920Z",
     "shell.execute_reply": "2020-09-28T12:26:59.262927Z",
     "shell.execute_reply.started": "2020-09-28T12:26:59.180921Z"
    }
   },
   "outputs": [],
   "source": [
    "name = \"삼성전자\"\n",
    "stockdf = getStockHistory([name], start='2019-01-01')"
   ]
  },
  {
   "cell_type": "markdown",
   "metadata": {},
   "source": [
    " - 주식 정보는 토/일이 missing되어 있으므로, time-series 분석을 위해 토/일요일 정보를 forward fill 방식으로 채우자"
   ]
  },
  {
   "cell_type": "code",
   "execution_count": 30,
   "metadata": {
    "execution": {
     "iopub.execute_input": "2020-09-28T12:27:02.375919Z",
     "iopub.status.busy": "2020-09-28T12:27:02.374919Z",
     "iopub.status.idle": "2020-09-28T12:27:02.388929Z",
     "shell.execute_reply": "2020-09-28T12:27:02.388929Z",
     "shell.execute_reply.started": "2020-09-28T12:27:02.375919Z"
    }
   },
   "outputs": [
    {
     "data": {
      "text/html": [
       "<div>\n",
       "<style scoped>\n",
       "    .dataframe tbody tr th:only-of-type {\n",
       "        vertical-align: middle;\n",
       "    }\n",
       "\n",
       "    .dataframe tbody tr th {\n",
       "        vertical-align: top;\n",
       "    }\n",
       "\n",
       "    .dataframe thead tr th {\n",
       "        text-align: left;\n",
       "    }\n",
       "\n",
       "    .dataframe thead tr:last-of-type th {\n",
       "        text-align: right;\n",
       "    }\n",
       "</style>\n",
       "<table border=\"1\" class=\"dataframe\">\n",
       "  <thead>\n",
       "    <tr>\n",
       "      <th>name</th>\n",
       "      <th colspan=\"5\" halign=\"left\">삼성전자</th>\n",
       "    </tr>\n",
       "    <tr>\n",
       "      <th></th>\n",
       "      <th>Open</th>\n",
       "      <th>High</th>\n",
       "      <th>Low</th>\n",
       "      <th>Close</th>\n",
       "      <th>Volume</th>\n",
       "    </tr>\n",
       "    <tr>\n",
       "      <th>Date</th>\n",
       "      <th></th>\n",
       "      <th></th>\n",
       "      <th></th>\n",
       "      <th></th>\n",
       "      <th></th>\n",
       "    </tr>\n",
       "  </thead>\n",
       "  <tbody>\n",
       "    <tr>\n",
       "      <th>2019-01-02</th>\n",
       "      <td>39400</td>\n",
       "      <td>39400</td>\n",
       "      <td>38550</td>\n",
       "      <td>38750</td>\n",
       "      <td>7847664</td>\n",
       "    </tr>\n",
       "    <tr>\n",
       "      <th>2019-01-03</th>\n",
       "      <td>38300</td>\n",
       "      <td>38550</td>\n",
       "      <td>37450</td>\n",
       "      <td>37600</td>\n",
       "      <td>12471493</td>\n",
       "    </tr>\n",
       "    <tr>\n",
       "      <th>2019-01-04</th>\n",
       "      <td>37450</td>\n",
       "      <td>37600</td>\n",
       "      <td>36850</td>\n",
       "      <td>37450</td>\n",
       "      <td>14108958</td>\n",
       "    </tr>\n",
       "    <tr>\n",
       "      <th>2019-01-07</th>\n",
       "      <td>38000</td>\n",
       "      <td>38900</td>\n",
       "      <td>37800</td>\n",
       "      <td>38750</td>\n",
       "      <td>12748997</td>\n",
       "    </tr>\n",
       "    <tr>\n",
       "      <th>2019-01-08</th>\n",
       "      <td>38000</td>\n",
       "      <td>39200</td>\n",
       "      <td>37950</td>\n",
       "      <td>38100</td>\n",
       "      <td>12756554</td>\n",
       "    </tr>\n",
       "    <tr>\n",
       "      <th>2019-01-09</th>\n",
       "      <td>38650</td>\n",
       "      <td>39600</td>\n",
       "      <td>38300</td>\n",
       "      <td>39600</td>\n",
       "      <td>17452708</td>\n",
       "    </tr>\n",
       "    <tr>\n",
       "      <th>2019-01-10</th>\n",
       "      <td>40000</td>\n",
       "      <td>40150</td>\n",
       "      <td>39600</td>\n",
       "      <td>39800</td>\n",
       "      <td>14731699</td>\n",
       "    </tr>\n",
       "    <tr>\n",
       "      <th>2019-01-11</th>\n",
       "      <td>40350</td>\n",
       "      <td>40550</td>\n",
       "      <td>39950</td>\n",
       "      <td>40500</td>\n",
       "      <td>11661063</td>\n",
       "    </tr>\n",
       "    <tr>\n",
       "      <th>2019-01-14</th>\n",
       "      <td>40450</td>\n",
       "      <td>40700</td>\n",
       "      <td>39850</td>\n",
       "      <td>40050</td>\n",
       "      <td>11984996</td>\n",
       "    </tr>\n",
       "    <tr>\n",
       "      <th>2019-01-15</th>\n",
       "      <td>40050</td>\n",
       "      <td>41100</td>\n",
       "      <td>39850</td>\n",
       "      <td>41100</td>\n",
       "      <td>11492756</td>\n",
       "    </tr>\n",
       "  </tbody>\n",
       "</table>\n",
       "</div>"
      ],
      "text/plain": [
       "name         삼성전자                               \n",
       "             Open   High    Low  Close    Volume\n",
       "Date                                            \n",
       "2019-01-02  39400  39400  38550  38750   7847664\n",
       "2019-01-03  38300  38550  37450  37600  12471493\n",
       "2019-01-04  37450  37600  36850  37450  14108958\n",
       "2019-01-07  38000  38900  37800  38750  12748997\n",
       "2019-01-08  38000  39200  37950  38100  12756554\n",
       "2019-01-09  38650  39600  38300  39600  17452708\n",
       "2019-01-10  40000  40150  39600  39800  14731699\n",
       "2019-01-11  40350  40550  39950  40500  11661063\n",
       "2019-01-14  40450  40700  39850  40050  11984996\n",
       "2019-01-15  40050  41100  39850  41100  11492756"
      ]
     },
     "execution_count": 30,
     "metadata": {},
     "output_type": "execute_result"
    }
   ],
   "source": [
    "stockdf[:10]"
   ]
  },
  {
   "cell_type": "code",
   "execution_count": 31,
   "metadata": {
    "execution": {
     "iopub.execute_input": "2020-09-28T12:27:03.191924Z",
     "iopub.status.busy": "2020-09-28T12:27:03.190924Z",
     "iopub.status.idle": "2020-09-28T12:27:03.211930Z",
     "shell.execute_reply": "2020-09-28T12:27:03.211930Z",
     "shell.execute_reply.started": "2020-09-28T12:27:03.191924Z"
    }
   },
   "outputs": [],
   "source": [
    "stockdf= stockdf.resample('D').fillna('ffill')"
   ]
  },
  {
   "cell_type": "code",
   "execution_count": 32,
   "metadata": {
    "execution": {
     "iopub.execute_input": "2020-09-28T12:27:03.811924Z",
     "iopub.status.busy": "2020-09-28T12:27:03.811924Z",
     "iopub.status.idle": "2020-09-28T12:27:03.822925Z",
     "shell.execute_reply": "2020-09-28T12:27:03.822925Z",
     "shell.execute_reply.started": "2020-09-28T12:27:03.811924Z"
    }
   },
   "outputs": [
    {
     "data": {
      "text/html": [
       "<div>\n",
       "<style scoped>\n",
       "    .dataframe tbody tr th:only-of-type {\n",
       "        vertical-align: middle;\n",
       "    }\n",
       "\n",
       "    .dataframe tbody tr th {\n",
       "        vertical-align: top;\n",
       "    }\n",
       "\n",
       "    .dataframe thead tr th {\n",
       "        text-align: left;\n",
       "    }\n",
       "\n",
       "    .dataframe thead tr:last-of-type th {\n",
       "        text-align: right;\n",
       "    }\n",
       "</style>\n",
       "<table border=\"1\" class=\"dataframe\">\n",
       "  <thead>\n",
       "    <tr>\n",
       "      <th>name</th>\n",
       "      <th colspan=\"5\" halign=\"left\">삼성전자</th>\n",
       "    </tr>\n",
       "    <tr>\n",
       "      <th></th>\n",
       "      <th>Open</th>\n",
       "      <th>High</th>\n",
       "      <th>Low</th>\n",
       "      <th>Close</th>\n",
       "      <th>Volume</th>\n",
       "    </tr>\n",
       "    <tr>\n",
       "      <th>Date</th>\n",
       "      <th></th>\n",
       "      <th></th>\n",
       "      <th></th>\n",
       "      <th></th>\n",
       "      <th></th>\n",
       "    </tr>\n",
       "  </thead>\n",
       "  <tbody>\n",
       "    <tr>\n",
       "      <th>2019-01-02</th>\n",
       "      <td>39400</td>\n",
       "      <td>39400</td>\n",
       "      <td>38550</td>\n",
       "      <td>38750</td>\n",
       "      <td>7847664</td>\n",
       "    </tr>\n",
       "    <tr>\n",
       "      <th>2019-01-03</th>\n",
       "      <td>38300</td>\n",
       "      <td>38550</td>\n",
       "      <td>37450</td>\n",
       "      <td>37600</td>\n",
       "      <td>12471493</td>\n",
       "    </tr>\n",
       "    <tr>\n",
       "      <th>2019-01-04</th>\n",
       "      <td>37450</td>\n",
       "      <td>37600</td>\n",
       "      <td>36850</td>\n",
       "      <td>37450</td>\n",
       "      <td>14108958</td>\n",
       "    </tr>\n",
       "    <tr>\n",
       "      <th>2019-01-05</th>\n",
       "      <td>37450</td>\n",
       "      <td>37600</td>\n",
       "      <td>36850</td>\n",
       "      <td>37450</td>\n",
       "      <td>14108958</td>\n",
       "    </tr>\n",
       "    <tr>\n",
       "      <th>2019-01-06</th>\n",
       "      <td>37450</td>\n",
       "      <td>37600</td>\n",
       "      <td>36850</td>\n",
       "      <td>37450</td>\n",
       "      <td>14108958</td>\n",
       "    </tr>\n",
       "    <tr>\n",
       "      <th>2019-01-07</th>\n",
       "      <td>38000</td>\n",
       "      <td>38900</td>\n",
       "      <td>37800</td>\n",
       "      <td>38750</td>\n",
       "      <td>12748997</td>\n",
       "    </tr>\n",
       "    <tr>\n",
       "      <th>2019-01-08</th>\n",
       "      <td>38000</td>\n",
       "      <td>39200</td>\n",
       "      <td>37950</td>\n",
       "      <td>38100</td>\n",
       "      <td>12756554</td>\n",
       "    </tr>\n",
       "    <tr>\n",
       "      <th>2019-01-09</th>\n",
       "      <td>38650</td>\n",
       "      <td>39600</td>\n",
       "      <td>38300</td>\n",
       "      <td>39600</td>\n",
       "      <td>17452708</td>\n",
       "    </tr>\n",
       "    <tr>\n",
       "      <th>2019-01-10</th>\n",
       "      <td>40000</td>\n",
       "      <td>40150</td>\n",
       "      <td>39600</td>\n",
       "      <td>39800</td>\n",
       "      <td>14731699</td>\n",
       "    </tr>\n",
       "    <tr>\n",
       "      <th>2019-01-11</th>\n",
       "      <td>40350</td>\n",
       "      <td>40550</td>\n",
       "      <td>39950</td>\n",
       "      <td>40500</td>\n",
       "      <td>11661063</td>\n",
       "    </tr>\n",
       "  </tbody>\n",
       "</table>\n",
       "</div>"
      ],
      "text/plain": [
       "name         삼성전자                               \n",
       "             Open   High    Low  Close    Volume\n",
       "Date                                            \n",
       "2019-01-02  39400  39400  38550  38750   7847664\n",
       "2019-01-03  38300  38550  37450  37600  12471493\n",
       "2019-01-04  37450  37600  36850  37450  14108958\n",
       "2019-01-05  37450  37600  36850  37450  14108958\n",
       "2019-01-06  37450  37600  36850  37450  14108958\n",
       "2019-01-07  38000  38900  37800  38750  12748997\n",
       "2019-01-08  38000  39200  37950  38100  12756554\n",
       "2019-01-09  38650  39600  38300  39600  17452708\n",
       "2019-01-10  40000  40150  39600  39800  14731699\n",
       "2019-01-11  40350  40550  39950  40500  11661063"
      ]
     },
     "execution_count": 32,
     "metadata": {},
     "output_type": "execute_result"
    }
   ],
   "source": [
    "stockdf[:10]"
   ]
  },
  {
   "cell_type": "markdown",
   "metadata": {},
   "source": [
    " - 종가 기준으로 어제의 종가와 비교해서 증감 내역과 그 ratio를 계산해 두자"
   ]
  },
  {
   "cell_type": "code",
   "execution_count": 33,
   "metadata": {
    "execution": {
     "iopub.execute_input": "2020-09-28T12:27:04.455920Z",
     "iopub.status.busy": "2020-09-28T12:27:04.455920Z",
     "iopub.status.idle": "2020-09-28T12:27:04.459924Z",
     "shell.execute_reply": "2020-09-28T12:27:04.459924Z",
     "shell.execute_reply.started": "2020-09-28T12:27:04.455920Z"
    }
   },
   "outputs": [],
   "source": [
    "tdf =stockdf[name]   # 또는 tdf = stockdf.droplevel(0,axis=1)"
   ]
  },
  {
   "cell_type": "code",
   "execution_count": 35,
   "metadata": {
    "execution": {
     "iopub.execute_input": "2020-09-28T12:27:21.390931Z",
     "iopub.status.busy": "2020-09-28T12:27:21.389924Z",
     "iopub.status.idle": "2020-09-28T12:27:21.397919Z",
     "shell.execute_reply": "2020-09-28T12:27:21.396931Z",
     "shell.execute_reply.started": "2020-09-28T12:27:21.390931Z"
    }
   },
   "outputs": [
    {
     "name": "stderr",
     "output_type": "stream",
     "text": [
      "C:\\ProgramData\\Anaconda3\\lib\\site-packages\\ipykernel_launcher.py:1: SettingWithCopyWarning: \n",
      "A value is trying to be set on a copy of a slice from a DataFrame.\n",
      "Try using .loc[row_indexer,col_indexer] = value instead\n",
      "\n",
      "See the caveats in the documentation: https://pandas.pydata.org/pandas-docs/stable/user_guide/indexing.html#returning-a-view-versus-a-copy\n",
      "  \"\"\"Entry point for launching an IPython kernel.\n",
      "C:\\ProgramData\\Anaconda3\\lib\\site-packages\\ipykernel_launcher.py:3: SettingWithCopyWarning: \n",
      "A value is trying to be set on a copy of a slice from a DataFrame.\n",
      "Try using .loc[row_indexer,col_indexer] = value instead\n",
      "\n",
      "See the caveats in the documentation: https://pandas.pydata.org/pandas-docs/stable/user_guide/indexing.html#returning-a-view-versus-a-copy\n",
      "  This is separate from the ipykernel package so we can avoid doing imports until\n"
     ]
    }
   ],
   "source": [
    "tdf['tomorrow_delta'] = tdf['Close'].shift(-1) - tdf['Close']   # 내일의 주가를 가져와 오늘의 주가와 차이름 추출\n",
    "\n",
    "tdf['tomorrow_ratio'] = tdf['tomorrow_delta'] / tdf['Close'] * 100 # 오늘의 주가 대비, 내일의 주가를 확인"
   ]
  },
  {
   "cell_type": "code",
   "execution_count": 36,
   "metadata": {
    "execution": {
     "iopub.execute_input": "2020-09-28T12:27:22.988922Z",
     "iopub.status.busy": "2020-09-28T12:27:22.987920Z",
     "iopub.status.idle": "2020-09-28T12:27:22.993924Z",
     "shell.execute_reply": "2020-09-28T12:27:22.992924Z",
     "shell.execute_reply.started": "2020-09-28T12:27:22.988922Z"
    }
   },
   "outputs": [],
   "source": [
    "tdf = tdf[['Close','tomorrow_delta']]"
   ]
  },
  {
   "cell_type": "code",
   "execution_count": 37,
   "metadata": {
    "execution": {
     "iopub.execute_input": "2020-09-28T12:27:23.995934Z",
     "iopub.status.busy": "2020-09-28T12:27:23.995934Z",
     "iopub.status.idle": "2020-09-28T12:27:24.006921Z",
     "shell.execute_reply": "2020-09-28T12:27:24.005932Z",
     "shell.execute_reply.started": "2020-09-28T12:27:23.995934Z"
    }
   },
   "outputs": [
    {
     "data": {
      "text/html": [
       "<div>\n",
       "<style scoped>\n",
       "    .dataframe tbody tr th:only-of-type {\n",
       "        vertical-align: middle;\n",
       "    }\n",
       "\n",
       "    .dataframe tbody tr th {\n",
       "        vertical-align: top;\n",
       "    }\n",
       "\n",
       "    .dataframe thead th {\n",
       "        text-align: right;\n",
       "    }\n",
       "</style>\n",
       "<table border=\"1\" class=\"dataframe\">\n",
       "  <thead>\n",
       "    <tr style=\"text-align: right;\">\n",
       "      <th></th>\n",
       "      <th>Close</th>\n",
       "      <th>tomorrow_delta</th>\n",
       "    </tr>\n",
       "    <tr>\n",
       "      <th>Date</th>\n",
       "      <th></th>\n",
       "      <th></th>\n",
       "    </tr>\n",
       "  </thead>\n",
       "  <tbody>\n",
       "    <tr>\n",
       "      <th>2019-01-02</th>\n",
       "      <td>38750</td>\n",
       "      <td>-1150.0</td>\n",
       "    </tr>\n",
       "    <tr>\n",
       "      <th>2019-01-03</th>\n",
       "      <td>37600</td>\n",
       "      <td>-150.0</td>\n",
       "    </tr>\n",
       "    <tr>\n",
       "      <th>2019-01-04</th>\n",
       "      <td>37450</td>\n",
       "      <td>0.0</td>\n",
       "    </tr>\n",
       "    <tr>\n",
       "      <th>2019-01-05</th>\n",
       "      <td>37450</td>\n",
       "      <td>0.0</td>\n",
       "    </tr>\n",
       "    <tr>\n",
       "      <th>2019-01-06</th>\n",
       "      <td>37450</td>\n",
       "      <td>1300.0</td>\n",
       "    </tr>\n",
       "  </tbody>\n",
       "</table>\n",
       "</div>"
      ],
      "text/plain": [
       "            Close  tomorrow_delta\n",
       "Date                             \n",
       "2019-01-02  38750         -1150.0\n",
       "2019-01-03  37600          -150.0\n",
       "2019-01-04  37450             0.0\n",
       "2019-01-05  37450             0.0\n",
       "2019-01-06  37450          1300.0"
      ]
     },
     "execution_count": 37,
     "metadata": {},
     "output_type": "execute_result"
    }
   ],
   "source": [
    "tdf.head()"
   ]
  },
  {
   "cell_type": "markdown",
   "metadata": {},
   "source": [
    "<div class=\"alert alert-block alert-info\">\n",
    "<b> Tip:</b> Pandas의 pct_change 함수를 이용해서 한번에 증감 정보를 계산하는 것도 가능! <br> <br>\n",
    "<pre>\n",
    "tdf['pct_change'] = tdf['Close'].pct_change().shift(-1)\n",
    "</pre>\n",
    "</div>"
   ]
  },
  {
   "cell_type": "markdown",
   "metadata": {},
   "source": [
    " - 핵심 알고리즘 구현 : 3일 이상 계속 상승하면 매수! 가격이 꺽이는 날 직전에 매도!!"
   ]
  },
  {
   "cell_type": "code",
   "execution_count": 38,
   "metadata": {
    "execution": {
     "iopub.execute_input": "2020-09-28T12:27:25.748930Z",
     "iopub.status.busy": "2020-09-28T12:27:25.747930Z",
     "iopub.status.idle": "2020-09-28T12:27:25.767919Z",
     "shell.execute_reply": "2020-09-28T12:27:25.766931Z",
     "shell.execute_reply.started": "2020-09-28T12:27:25.748930Z"
    }
   },
   "outputs": [
    {
     "data": {
      "text/plain": [
       "[[Timestamp('2019-01-08 00:00:00', freq='D'),\n",
       "  Timestamp('2019-01-13 00:00:00', freq='D')],\n",
       " [Timestamp('2019-01-14 00:00:00', freq='D'),\n",
       "  Timestamp('2019-01-21 00:00:00', freq='D')],\n",
       " [Timestamp('2019-01-23 00:00:00', freq='D'),\n",
       "  Timestamp('2019-01-30 00:00:00', freq='D')],\n",
       " [Timestamp('2019-01-31 00:00:00', freq='D'),\n",
       "  Timestamp('2019-02-06 00:00:00', freq='D')],\n",
       " [Timestamp('2019-02-10 00:00:00', freq='D'),\n",
       "  Timestamp('2019-02-14 00:00:00', freq='D')],\n",
       " [Timestamp('2019-02-19 00:00:00', freq='D'),\n",
       "  Timestamp('2019-02-25 00:00:00', freq='D')],\n",
       " [Timestamp('2019-03-14 00:00:00', freq='D'),\n",
       "  Timestamp('2019-03-17 00:00:00', freq='D')],\n",
       " [Timestamp('2019-03-18 00:00:00', freq='D'),\n",
       "  Timestamp('2019-03-24 00:00:00', freq='D')],\n",
       " [Timestamp('2019-03-31 00:00:00', freq='D'),\n",
       "  Timestamp('2019-04-04 00:00:00', freq='D')],\n",
       " [Timestamp('2019-04-11 00:00:00', freq='D'),\n",
       "  Timestamp('2019-04-16 00:00:00', freq='D')],\n",
       " [Timestamp('2019-04-25 00:00:00', freq='D'),\n",
       "  Timestamp('2019-04-29 00:00:00', freq='D')],\n",
       " [Timestamp('2019-05-09 00:00:00', freq='D'),\n",
       "  Timestamp('2019-05-12 00:00:00', freq='D')],\n",
       " [Timestamp('2019-05-19 00:00:00', freq='D'),\n",
       "  Timestamp('2019-05-23 00:00:00', freq='D')],\n",
       " [Timestamp('2019-06-04 00:00:00', freq='D'),\n",
       "  Timestamp('2019-06-11 00:00:00', freq='D')],\n",
       " [Timestamp('2019-06-13 00:00:00', freq='D'),\n",
       "  Timestamp('2019-06-16 00:00:00', freq='D')],\n",
       " [Timestamp('2019-06-17 00:00:00', freq='D'),\n",
       "  Timestamp('2019-06-23 00:00:00', freq='D')],\n",
       " [Timestamp('2019-06-24 00:00:00', freq='D'),\n",
       "  Timestamp('2019-06-30 00:00:00', freq='D')],\n",
       " [Timestamp('2019-07-08 00:00:00', freq='D'),\n",
       "  Timestamp('2019-07-16 00:00:00', freq='D')],\n",
       " [Timestamp('2019-07-17 00:00:00', freq='D'),\n",
       "  Timestamp('2019-07-23 00:00:00', freq='D')],\n",
       " [Timestamp('2019-08-08 00:00:00', freq='D'),\n",
       "  Timestamp('2019-08-12 00:00:00', freq='D')],\n",
       " [Timestamp('2019-08-13 00:00:00', freq='D'),\n",
       "  Timestamp('2019-08-18 00:00:00', freq='D')],\n",
       " [Timestamp('2019-08-29 00:00:00', freq='D'),\n",
       "  Timestamp('2019-09-01 00:00:00', freq='D')],\n",
       " [Timestamp('2019-09-03 00:00:00', freq='D'),\n",
       "  Timestamp('2019-09-15 00:00:00', freq='D')],\n",
       " [Timestamp('2019-09-17 00:00:00', freq='D'),\n",
       "  Timestamp('2019-09-24 00:00:00', freq='D')],\n",
       " [Timestamp('2019-10-03 00:00:00', freq='D'),\n",
       "  Timestamp('2019-10-06 00:00:00', freq='D')],\n",
       " [Timestamp('2019-10-10 00:00:00', freq='D'),\n",
       "  Timestamp('2019-10-16 00:00:00', freq='D')],\n",
       " [Timestamp('2019-10-20 00:00:00', freq='D'),\n",
       "  Timestamp('2019-10-23 00:00:00', freq='D')],\n",
       " [Timestamp('2019-10-24 00:00:00', freq='D'),\n",
       "  Timestamp('2019-10-28 00:00:00', freq='D')],\n",
       " [Timestamp('2019-10-31 00:00:00', freq='D'),\n",
       "  Timestamp('2019-11-06 00:00:00', freq='D')],\n",
       " [Timestamp('2019-11-13 00:00:00', freq='D'),\n",
       "  Timestamp('2019-11-17 00:00:00', freq='D')],\n",
       " [Timestamp('2019-11-21 00:00:00', freq='D'),\n",
       "  Timestamp('2019-11-27 00:00:00', freq='D')],\n",
       " [Timestamp('2019-12-04 00:00:00', freq='D'),\n",
       "  Timestamp('2019-12-17 00:00:00', freq='D')],\n",
       " [Timestamp('2019-12-25 00:00:00', freq='D'),\n",
       "  Timestamp('2019-12-29 00:00:00', freq='D')],\n",
       " [Timestamp('2020-01-02 00:00:00', freq='D'),\n",
       "  Timestamp('2020-01-14 00:00:00', freq='D')],\n",
       " [Timestamp('2020-01-15 00:00:00', freq='D'),\n",
       "  Timestamp('2020-01-20 00:00:00', freq='D')],\n",
       " [Timestamp('2020-02-02 00:00:00', freq='D'),\n",
       "  Timestamp('2020-02-06 00:00:00', freq='D')],\n",
       " [Timestamp('2020-02-10 00:00:00', freq='D'),\n",
       "  Timestamp('2020-02-16 00:00:00', freq='D')],\n",
       " [Timestamp('2020-03-01 00:00:00', freq='D'),\n",
       "  Timestamp('2020-03-05 00:00:00', freq='D')],\n",
       " [Timestamp('2020-03-19 00:00:00', freq='D'),\n",
       "  Timestamp('2020-03-22 00:00:00', freq='D')],\n",
       " [Timestamp('2020-03-26 00:00:00', freq='D'),\n",
       "  Timestamp('2020-03-29 00:00:00', freq='D')],\n",
       " [Timestamp('2020-04-01 00:00:00', freq='D'),\n",
       "  Timestamp('2020-04-07 00:00:00', freq='D')],\n",
       " [Timestamp('2020-04-08 00:00:00', freq='D'),\n",
       "  Timestamp('2020-04-12 00:00:00', freq='D')],\n",
       " [Timestamp('2020-04-13 00:00:00', freq='D'),\n",
       "  Timestamp('2020-04-19 00:00:00', freq='D')],\n",
       " [Timestamp('2020-05-24 00:00:00', freq='D'),\n",
       "  Timestamp('2020-06-07 00:00:00', freq='D')],\n",
       " [Timestamp('2020-06-15 00:00:00', freq='D'),\n",
       "  Timestamp('2020-06-21 00:00:00', freq='D')],\n",
       " [Timestamp('2020-06-25 00:00:00', freq='D'),\n",
       "  Timestamp('2020-06-28 00:00:00', freq='D')],\n",
       " [Timestamp('2020-07-01 00:00:00', freq='D'),\n",
       "  Timestamp('2020-07-06 00:00:00', freq='D')],\n",
       " [Timestamp('2020-07-12 00:00:00', freq='D'),\n",
       "  Timestamp('2020-07-15 00:00:00', freq='D')],\n",
       " [Timestamp('2020-07-16 00:00:00', freq='D'),\n",
       "  Timestamp('2020-07-19 00:00:00', freq='D')],\n",
       " [Timestamp('2020-07-23 00:00:00', freq='D'),\n",
       "  Timestamp('2020-07-30 00:00:00', freq='D')],\n",
       " [Timestamp('2020-08-09 00:00:00', freq='D'),\n",
       "  Timestamp('2020-08-12 00:00:00', freq='D')],\n",
       " [Timestamp('2020-08-20 00:00:00', freq='D'),\n",
       "  Timestamp('2020-08-26 00:00:00', freq='D')],\n",
       " [Timestamp('2020-08-31 00:00:00', freq='D'),\n",
       "  Timestamp('2020-09-03 00:00:00', freq='D')],\n",
       " [Timestamp('2020-09-13 00:00:00', freq='D'),\n",
       "  Timestamp('2020-09-16 00:00:00', freq='D')]]"
      ]
     },
     "execution_count": 38,
     "metadata": {},
     "output_type": "execute_result"
    }
   ],
   "source": [
    "invest_list = []\n",
    "during_invest = False\n",
    "\n",
    "# 주가를 하루 하루 날짜별로 쫒아 가보자\n",
    "for rows in tdf.itertuples():\n",
    "    if rows[2] < 0 and during_invest:               # row[0] => 날짜 (index) , row[2] => 증감정보\n",
    "        invest.append(rows[0])  # set today as end date of invest\n",
    "        during_invest = False\n",
    "        if (invest[1] - invest[0]).days >= 3:\n",
    "            invest_list.append(invest)\n",
    "    elif rows[2] < 0 and not during_invest:\n",
    "        continue\n",
    "    elif rows[2] > 0 and during_invest:\n",
    "        continue\n",
    "    elif rows[2] > 0 and not during_invest:\n",
    "        invest = [rows[0]]\n",
    "        during_invest = True\n",
    "\n",
    "invest_list"
   ]
  },
  {
   "cell_type": "markdown",
   "metadata": {},
   "source": [
    "## 비교 (레퍼런스) 알고리즘 end-to-end 모듈화 (함수화)"
   ]
  },
  {
   "cell_type": "code",
   "execution_count": 39,
   "metadata": {
    "execution": {
     "iopub.execute_input": "2020-09-28T12:27:27.236926Z",
     "iopub.status.busy": "2020-09-28T12:27:27.235925Z",
     "iopub.status.idle": "2020-09-28T12:27:27.243923Z",
     "shell.execute_reply": "2020-09-28T12:27:27.242936Z",
     "shell.execute_reply.started": "2020-09-28T12:27:27.236926Z"
    }
   },
   "outputs": [],
   "source": [
    "def realistic_optimal(targetdf, min_investdays=3):\n",
    "    \n",
    "    targetdf= targetdf.resample('D').fillna('ffill')\n",
    "    tdf = targetdf.droplevel(0, axis=1)\n",
    "    tdf = tdf[['Close']]\n",
    "    tdf['tomorrow_gap'] = tdf['Close'].shift(-1) - tdf['Close'] \n",
    "    tdf['tomorrow_ratio'] = tdf['tomorrow_gap'] / tdf['Close'] * 100\n",
    "    \n",
    "    invest_list = []\n",
    "    during_invest = False\n",
    "    for rows in tdf.itertuples():\n",
    "        if rows[2] < 0 and during_invest:\n",
    "            invest.append(rows[0])  # set today as end date of invest\n",
    "            during_invest = False\n",
    "            if (invest[1] - invest[0]).days >= min_investdays:\n",
    "                invest_list.append(invest)\n",
    "        elif rows[2] < 0 and not during_invest:\n",
    "            continue\n",
    "        elif rows[2] > 0 and during_invest:\n",
    "            continue\n",
    "        elif rows[2] > 0 and not during_invest:\n",
    "            invest = [rows[0]]\n",
    "            during_invest = True\n",
    "            \n",
    "    return invest_list"
   ]
  },
  {
   "cell_type": "code",
   "execution_count": 40,
   "metadata": {
    "execution": {
     "iopub.execute_input": "2020-09-28T12:27:28.083930Z",
     "iopub.status.busy": "2020-09-28T12:27:28.082945Z",
     "iopub.status.idle": "2020-09-28T12:27:28.104921Z",
     "shell.execute_reply": "2020-09-28T12:27:28.103927Z",
     "shell.execute_reply.started": "2020-09-28T12:27:28.083930Z"
    }
   },
   "outputs": [
    {
     "data": {
      "text/plain": [
       "[[Timestamp('2019-01-08 00:00:00', freq='D'),\n",
       "  Timestamp('2019-01-13 00:00:00', freq='D')],\n",
       " [Timestamp('2019-01-14 00:00:00', freq='D'),\n",
       "  Timestamp('2019-01-21 00:00:00', freq='D')],\n",
       " [Timestamp('2019-01-23 00:00:00', freq='D'),\n",
       "  Timestamp('2019-01-30 00:00:00', freq='D')],\n",
       " [Timestamp('2019-01-31 00:00:00', freq='D'),\n",
       "  Timestamp('2019-02-06 00:00:00', freq='D')],\n",
       " [Timestamp('2019-02-10 00:00:00', freq='D'),\n",
       "  Timestamp('2019-02-14 00:00:00', freq='D')],\n",
       " [Timestamp('2019-02-19 00:00:00', freq='D'),\n",
       "  Timestamp('2019-02-25 00:00:00', freq='D')],\n",
       " [Timestamp('2019-03-14 00:00:00', freq='D'),\n",
       "  Timestamp('2019-03-17 00:00:00', freq='D')],\n",
       " [Timestamp('2019-03-18 00:00:00', freq='D'),\n",
       "  Timestamp('2019-03-24 00:00:00', freq='D')],\n",
       " [Timestamp('2019-03-31 00:00:00', freq='D'),\n",
       "  Timestamp('2019-04-04 00:00:00', freq='D')],\n",
       " [Timestamp('2019-04-11 00:00:00', freq='D'),\n",
       "  Timestamp('2019-04-16 00:00:00', freq='D')],\n",
       " [Timestamp('2019-04-25 00:00:00', freq='D'),\n",
       "  Timestamp('2019-04-29 00:00:00', freq='D')],\n",
       " [Timestamp('2019-05-09 00:00:00', freq='D'),\n",
       "  Timestamp('2019-05-12 00:00:00', freq='D')],\n",
       " [Timestamp('2019-05-19 00:00:00', freq='D'),\n",
       "  Timestamp('2019-05-23 00:00:00', freq='D')],\n",
       " [Timestamp('2019-06-04 00:00:00', freq='D'),\n",
       "  Timestamp('2019-06-11 00:00:00', freq='D')],\n",
       " [Timestamp('2019-06-13 00:00:00', freq='D'),\n",
       "  Timestamp('2019-06-16 00:00:00', freq='D')],\n",
       " [Timestamp('2019-06-17 00:00:00', freq='D'),\n",
       "  Timestamp('2019-06-23 00:00:00', freq='D')],\n",
       " [Timestamp('2019-06-24 00:00:00', freq='D'),\n",
       "  Timestamp('2019-06-30 00:00:00', freq='D')],\n",
       " [Timestamp('2019-07-08 00:00:00', freq='D'),\n",
       "  Timestamp('2019-07-16 00:00:00', freq='D')],\n",
       " [Timestamp('2019-07-17 00:00:00', freq='D'),\n",
       "  Timestamp('2019-07-23 00:00:00', freq='D')],\n",
       " [Timestamp('2019-08-08 00:00:00', freq='D'),\n",
       "  Timestamp('2019-08-12 00:00:00', freq='D')],\n",
       " [Timestamp('2019-08-13 00:00:00', freq='D'),\n",
       "  Timestamp('2019-08-18 00:00:00', freq='D')],\n",
       " [Timestamp('2019-08-29 00:00:00', freq='D'),\n",
       "  Timestamp('2019-09-01 00:00:00', freq='D')],\n",
       " [Timestamp('2019-09-03 00:00:00', freq='D'),\n",
       "  Timestamp('2019-09-15 00:00:00', freq='D')],\n",
       " [Timestamp('2019-09-17 00:00:00', freq='D'),\n",
       "  Timestamp('2019-09-24 00:00:00', freq='D')],\n",
       " [Timestamp('2019-10-03 00:00:00', freq='D'),\n",
       "  Timestamp('2019-10-06 00:00:00', freq='D')],\n",
       " [Timestamp('2019-10-10 00:00:00', freq='D'),\n",
       "  Timestamp('2019-10-16 00:00:00', freq='D')],\n",
       " [Timestamp('2019-10-20 00:00:00', freq='D'),\n",
       "  Timestamp('2019-10-23 00:00:00', freq='D')],\n",
       " [Timestamp('2019-10-24 00:00:00', freq='D'),\n",
       "  Timestamp('2019-10-28 00:00:00', freq='D')],\n",
       " [Timestamp('2019-10-31 00:00:00', freq='D'),\n",
       "  Timestamp('2019-11-06 00:00:00', freq='D')],\n",
       " [Timestamp('2019-11-13 00:00:00', freq='D'),\n",
       "  Timestamp('2019-11-17 00:00:00', freq='D')],\n",
       " [Timestamp('2019-11-21 00:00:00', freq='D'),\n",
       "  Timestamp('2019-11-27 00:00:00', freq='D')],\n",
       " [Timestamp('2019-12-04 00:00:00', freq='D'),\n",
       "  Timestamp('2019-12-17 00:00:00', freq='D')],\n",
       " [Timestamp('2019-12-25 00:00:00', freq='D'),\n",
       "  Timestamp('2019-12-29 00:00:00', freq='D')],\n",
       " [Timestamp('2020-01-02 00:00:00', freq='D'),\n",
       "  Timestamp('2020-01-14 00:00:00', freq='D')],\n",
       " [Timestamp('2020-01-15 00:00:00', freq='D'),\n",
       "  Timestamp('2020-01-20 00:00:00', freq='D')],\n",
       " [Timestamp('2020-02-02 00:00:00', freq='D'),\n",
       "  Timestamp('2020-02-06 00:00:00', freq='D')],\n",
       " [Timestamp('2020-02-10 00:00:00', freq='D'),\n",
       "  Timestamp('2020-02-16 00:00:00', freq='D')],\n",
       " [Timestamp('2020-03-01 00:00:00', freq='D'),\n",
       "  Timestamp('2020-03-05 00:00:00', freq='D')],\n",
       " [Timestamp('2020-03-19 00:00:00', freq='D'),\n",
       "  Timestamp('2020-03-22 00:00:00', freq='D')],\n",
       " [Timestamp('2020-03-26 00:00:00', freq='D'),\n",
       "  Timestamp('2020-03-29 00:00:00', freq='D')],\n",
       " [Timestamp('2020-04-01 00:00:00', freq='D'),\n",
       "  Timestamp('2020-04-07 00:00:00', freq='D')],\n",
       " [Timestamp('2020-04-08 00:00:00', freq='D'),\n",
       "  Timestamp('2020-04-12 00:00:00', freq='D')],\n",
       " [Timestamp('2020-04-13 00:00:00', freq='D'),\n",
       "  Timestamp('2020-04-19 00:00:00', freq='D')],\n",
       " [Timestamp('2020-05-24 00:00:00', freq='D'),\n",
       "  Timestamp('2020-06-07 00:00:00', freq='D')],\n",
       " [Timestamp('2020-06-15 00:00:00', freq='D'),\n",
       "  Timestamp('2020-06-21 00:00:00', freq='D')],\n",
       " [Timestamp('2020-06-25 00:00:00', freq='D'),\n",
       "  Timestamp('2020-06-28 00:00:00', freq='D')],\n",
       " [Timestamp('2020-07-01 00:00:00', freq='D'),\n",
       "  Timestamp('2020-07-06 00:00:00', freq='D')],\n",
       " [Timestamp('2020-07-12 00:00:00', freq='D'),\n",
       "  Timestamp('2020-07-15 00:00:00', freq='D')],\n",
       " [Timestamp('2020-07-16 00:00:00', freq='D'),\n",
       "  Timestamp('2020-07-19 00:00:00', freq='D')],\n",
       " [Timestamp('2020-07-23 00:00:00', freq='D'),\n",
       "  Timestamp('2020-07-30 00:00:00', freq='D')],\n",
       " [Timestamp('2020-08-09 00:00:00', freq='D'),\n",
       "  Timestamp('2020-08-12 00:00:00', freq='D')],\n",
       " [Timestamp('2020-08-20 00:00:00', freq='D'),\n",
       "  Timestamp('2020-08-26 00:00:00', freq='D')],\n",
       " [Timestamp('2020-08-31 00:00:00', freq='D'),\n",
       "  Timestamp('2020-09-03 00:00:00', freq='D')],\n",
       " [Timestamp('2020-09-13 00:00:00', freq='D'),\n",
       "  Timestamp('2020-09-16 00:00:00', freq='D')]]"
      ]
     },
     "execution_count": 40,
     "metadata": {},
     "output_type": "execute_result"
    }
   ],
   "source": [
    "realistic_optimal(stockdf)"
   ]
  },
  {
   "cell_type": "markdown",
   "metadata": {},
   "source": [
    "## 비교 알고리즘을 평가해 보자!"
   ]
  },
  {
   "cell_type": "code",
   "execution_count": 41,
   "metadata": {
    "execution": {
     "iopub.execute_input": "2020-09-28T12:27:29.084935Z",
     "iopub.status.busy": "2020-09-28T12:27:29.084935Z",
     "iopub.status.idle": "2020-09-28T12:27:29.097930Z",
     "shell.execute_reply": "2020-09-28T12:27:29.097930Z",
     "shell.execute_reply.started": "2020-09-28T12:27:29.084935Z"
    }
   },
   "outputs": [],
   "source": [
    "invest_list = realistic_optimal(stockdf)"
   ]
  },
  {
   "cell_type": "code",
   "execution_count": 42,
   "metadata": {
    "execution": {
     "iopub.execute_input": "2020-09-28T12:27:29.874920Z",
     "iopub.status.busy": "2020-09-28T12:27:29.874920Z",
     "iopub.status.idle": "2020-09-28T12:27:29.883921Z",
     "shell.execute_reply": "2020-09-28T12:27:29.882924Z",
     "shell.execute_reply.started": "2020-09-28T12:27:29.874920Z"
    }
   },
   "outputs": [],
   "source": [
    "earn_ratio = measure_gains(stockdf, invest_list)"
   ]
  },
  {
   "cell_type": "code",
   "execution_count": 43,
   "metadata": {
    "execution": {
     "iopub.execute_input": "2020-09-28T12:27:30.516936Z",
     "iopub.status.busy": "2020-09-28T12:27:30.515934Z",
     "iopub.status.idle": "2020-09-28T12:27:30.521921Z",
     "shell.execute_reply": "2020-09-28T12:27:30.520936Z",
     "shell.execute_reply.started": "2020-09-28T12:27:30.516936Z"
    }
   },
   "outputs": [
    {
     "name": "stdout",
     "output_type": "stream",
     "text": [
      "The earn ratio is 67% !!\n"
     ]
    }
   ],
   "source": [
    "print(f\"The earn ratio is {earn_ratio:.0f}% !!\")"
   ]
  },
  {
   "cell_type": "markdown",
   "metadata": {},
   "source": [
    "# 알고리즘 Visualization\n",
    "> 전체 챠트에서, 투자 기간 (매수/매도) 기간을 표시"
   ]
  },
  {
   "cell_type": "code",
   "execution_count": 44,
   "metadata": {
    "execution": {
     "iopub.execute_input": "2020-09-28T12:27:31.772945Z",
     "iopub.status.busy": "2020-09-28T12:27:31.771925Z",
     "iopub.status.idle": "2020-09-28T12:27:31.776937Z",
     "shell.execute_reply": "2020-09-28T12:27:31.775921Z",
     "shell.execute_reply.started": "2020-09-28T12:27:31.772945Z"
    }
   },
   "outputs": [],
   "source": [
    "import matplotlib\n",
    "matplotlib.style.use('ggplot')"
   ]
  },
  {
   "cell_type": "code",
   "execution_count": 45,
   "metadata": {
    "execution": {
     "iopub.execute_input": "2020-09-28T12:27:32.572932Z",
     "iopub.status.busy": "2020-09-28T12:27:32.571921Z",
     "iopub.status.idle": "2020-09-28T12:27:32.579924Z",
     "shell.execute_reply": "2020-09-28T12:27:32.578924Z",
     "shell.execute_reply.started": "2020-09-28T12:27:32.572932Z"
    }
   },
   "outputs": [],
   "source": [
    "def visualize_invest(targetdf, invest_list):\n",
    "    \n",
    "    fig, ax = plt.subplots(nrows=1, ncols=1, figsize=(16,6))\n",
    "    \n",
    "    # draw whole graph\n",
    "    targetdf= targetdf.resample('D').fillna('ffill')\n",
    "    tdf = targetdf.droplevel(0,1)\n",
    "    tdf = tdf[['Close']]\n",
    "    tdf['Close'].plot(ax=ax, color='yellow', linewidth=3)\n",
    "    \n",
    "    #plt.scatter(targetdf.index, targetdf['Close'], color='Black')\n",
    "    \n",
    "    \n",
    "    #draw invest graph\n",
    "    for [sdate,edate] in invest_list:\n",
    "        tdf.loc[sdate:edate,'Close'].plot(ax=ax, color='red', linewidth=2)\n",
    "\n",
    "        "
   ]
  },
  {
   "cell_type": "code",
   "execution_count": 46,
   "metadata": {
    "execution": {
     "iopub.execute_input": "2020-09-28T12:27:32.580924Z",
     "iopub.status.busy": "2020-09-28T12:27:32.580924Z",
     "iopub.status.idle": "2020-09-28T12:27:33.636924Z",
     "shell.execute_reply": "2020-09-28T12:27:33.635923Z",
     "shell.execute_reply.started": "2020-09-28T12:27:32.580924Z"
    }
   },
   "outputs": [
    {
     "data": {
      "image/png": "[encoded data removed]",
      "text/plain": [
       "<Figure size 1152x432 with 1 Axes>"
      ]
     },
     "metadata": {},
     "output_type": "display_data"
    }
   ],
   "source": [
    "visualize_invest(stockdf, invest_list)"
   ]
  },
  {
   "cell_type": "markdown",
   "metadata": {},
   "source": [
    "<div class=\"alert alert-block alert-info\">\n",
    "<b> Tip:</b> 노란색이 주가 변화를, 빨간색으로 나타난 부분이 매입/매도 구간을 나타냄\n",
    "</div>"
   ]
  }
 ],
 "metadata": {
  "kernelspec": {
   "display_name": "Python 3",
   "language": "python",
   "name": "python3"
  },
  "language_info": {
   "codemirror_mode": {
    "name": "ipython",
    "version": 3
   },
   "file_extension": ".py",
   "mimetype": "text/x-python",
   "name": "python",
   "nbconvert_exporter": "python",
   "pygments_lexer": "ipython3",
   "version": "3.7.8"
  },
  "toc-autonumbering": true
 },
 "nbformat": 4,
 "nbformat_minor": 4
}
